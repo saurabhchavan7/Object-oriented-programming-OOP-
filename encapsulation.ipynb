{
 "cells": [
  {
   "cell_type": "markdown",
   "id": "7c8fc388-8a19-41e8-b899-1eaec05be9e9",
   "metadata": {},
   "source": [
    "### Encapsulation\n",
    "\n",
    "- It is a core fundamental pillar of Object-Oriented Programming (OOP).\n"
   ]
  },
  {
   "cell_type": "markdown",
   "id": "869a34f7-fda2-4682-8b05-a0e5e4c3b93f",
   "metadata": {},
   "source": [
    "#### What is an Instance Variable\n",
    "\n",
    "- Consider the class `Person` where the constructor has two attributes: `name` and `country`.\n",
    "- These `name` and `country` variables are called instance variables.\n",
    "- An instance variable is a variable whose value can differ across different objects of the same class.\n",
    "- Let's look at an example to see this in action.\n"
   ]
  },
  {
   "cell_type": "code",
   "execution_count": 3,
   "id": "e83dc469-b365-42e2-9b25-85aa64b1acba",
   "metadata": {},
   "outputs": [],
   "source": [
    "class Person:\n",
    "    \n",
    "    def __init__(self, name_input, country_input):\n",
    "        self.name = name_input\n",
    "        self.country = country_input\n",
    "        \n",
    "p1 = Person('saurabh', 'India')\n",
    "p2 = Person('Alexander', 'USA')"
   ]
  },
  {
   "cell_type": "markdown",
   "id": "b653abe2-6841-435a-ad4f-8763d273330a",
   "metadata": {},
   "source": [
    "- Here, we have created two objects, `p1` and `p2`.\n",
    "- When we access `p1.name`, we get one output.\n",
    "- When we access `p2.name`, we get a different output.\n",
    "- This demonstrates that the value of the instance variable `name` can be different for each object.\n"
   ]
  },
  {
   "cell_type": "code",
   "execution_count": 4,
   "id": "2019ed64-e5af-4313-b0c4-5c1cba14d6cc",
   "metadata": {},
   "outputs": [
    {
     "data": {
      "text/plain": [
       "'saurabh'"
      ]
     },
     "execution_count": 4,
     "metadata": {},
     "output_type": "execute_result"
    }
   ],
   "source": [
    "p1.name"
   ]
  },
  {
   "cell_type": "code",
   "execution_count": 5,
   "id": "7d71a684-bb5c-43ee-b7d6-750f4d59588a",
   "metadata": {},
   "outputs": [
    {
     "data": {
      "text/plain": [
       "'Alexander'"
      ]
     },
     "execution_count": 5,
     "metadata": {},
     "output_type": "execute_result"
    }
   ],
   "source": [
    "p2.name"
   ]
  },
  {
   "cell_type": "markdown",
   "id": "f3d55573-f97f-4894-8edf-434ed71fe189",
   "metadata": {},
   "source": [
    "- Here, there is only one variable, `name`, but it holds two different values: 'Saurabh' and 'Alexander'.\n",
    "- Generally, when we create a variable, it holds a single value. However, instance variables are special in that they can hold different values for different objects.\n",
    "- An instance variable is a special type of variable whose value depends on the object. Therefore, each object can have a different value for the same instance variable.\n"
   ]
  },
  {
   "cell_type": "markdown",
   "id": "6119b345-df69-40e4-ac92-4d10fde91a58",
   "metadata": {},
   "source": [
    "### What is Encapsulation\n",
    "\n",
    "- To understand encapsulation, we will revisit the ATM code example.\n",
    "- Encapsulation can be illustrated through a story:\n",
    "  - Assume a senior programmer has created the ATM code.\n",
    "  - A fresher, who has just joined the company and is not very interested in coding but is doing it to earn money, is assigned to the ATM project.\n",
    "  - The fresher makes a mistake in the code, which we will explore.\n"
   ]
  },
  {
   "cell_type": "code",
   "execution_count": 17,
   "id": "54576b78-79ed-4d7f-8e63-a3752b6f70ff",
   "metadata": {},
   "outputs": [],
   "source": [
    "class Atm:\n",
    "    \n",
    "    # constructor\n",
    "    def __init__(self):\n",
    "        self.pin = []\n",
    "        self.balance = 0\n",
    "        #self.menu()\n",
    "        \n",
    "    def menu(self):\n",
    "        user_input = input(\"\"\"\n",
    "        hi how can i help you?\n",
    "        1. press 1 to create pin\n",
    "        2. press 2 to change pin\n",
    "        3. press 3 to check  balance\n",
    "        4. press 4 to withdraw  balance\n",
    "        5. anything else to exit\n",
    "        \"\"\")\n",
    "        \n",
    "        if user_input == '1':\n",
    "            # create pin\n",
    "            self.create_pin() # here will call the function\n",
    "        elif user_input == '2':\n",
    "            # chage pin\n",
    "            self.change_pin()\n",
    "            pass\n",
    "        elif user_input == '3':\n",
    "            # check balance\n",
    "            self.check_balance()\n",
    "            pass\n",
    "        elif user_input == '4':\n",
    "            # withdraw\n",
    "            self.withdraw()\n",
    "            pass\n",
    "        else:\n",
    "            print('thank you')\n",
    "    \n",
    "    def create_pin(self): # we need to write self in brackets because whenver will create a function there will be self parameter in that function\n",
    "        user_pin = input('enter your pin')\n",
    "        self.pin = user_pin # so basically whatever user will provide we are putting it back in constructor\n",
    "        \n",
    "        user_balance = int(input('enter balance'))\n",
    "        self.balance = user_balance \n",
    "        \n",
    "        print('pin created sucessfully')\n",
    "        self.menu()\n",
    "        \n",
    "    \n",
    "    def change_pin(self):\n",
    "        old_pin = input('enter old pin')\n",
    "        \n",
    "        if old_pin == self.pin:\n",
    "            # let him change the pin\n",
    "            new_pin = input('enter new pin')\n",
    "            if new_pin == old_pin:\n",
    "                print('create valid pin')\n",
    "                self.change_pin()\n",
    "            else:\n",
    "                self.pin = new_pin\n",
    "                print('pin changed sucessfully')\n",
    "                self.menu()\n",
    "        else:\n",
    "            print('invalid pin')\n",
    "            self.menu()\n",
    "            \n",
    "    def check_balance(self):\n",
    "        check_pin = input('enter pin')\n",
    "        if check_pin == self.pin:\n",
    "            print('you balance is:',self.balance)\n",
    "        else:\n",
    "            print('invalid pin')\n",
    "            self.menu()\n",
    "            \n",
    "    def withdraw(self):\n",
    "        user_pin = input('enter the pin')\n",
    "        if user_pin == self.pin:\n",
    "            # allow to withdraw\n",
    "            amount = int(input('enter amount'))\n",
    "            if amount <= self.balance:\n",
    "                self.balance = self.balance - amount\n",
    "                print('withdrawl sucessful balance is:',self.balance) \n",
    "            else:\n",
    "                print('insufficient balance')\n",
    "                \n",
    "        else:\n",
    "                print('invalid pin')\n",
    "                self.withdraw()\n",
    "        self.menu()"
   ]
  },
  {
   "cell_type": "markdown",
   "id": "f3ecc5b8-cd1e-47e2-910f-1c6fd35a1a2c",
   "metadata": {},
   "source": [
    "- The fresher makes a mistake in the `withdraw` method by changing the `balance` directly.\n",
    "- First, the fresher creates an object: `obj = Atm()`.\n",
    "- Then, they write `obj.balance = 'lol'`.\n",
    "- This code executes, and the `balance` value is changed to 'lol'.\n"
   ]
  },
  {
   "cell_type": "code",
   "execution_count": 21,
   "id": "f5a338d0-6fa0-4bca-bd73-07844f6482bd",
   "metadata": {},
   "outputs": [],
   "source": [
    "obj = Atm()"
   ]
  },
  {
   "cell_type": "markdown",
   "id": "a6611ac3-776a-4196-bf4c-e0f887be0e11",
   "metadata": {},
   "source": [
    "- user creates a pin"
   ]
  },
  {
   "cell_type": "code",
   "execution_count": 22,
   "id": "78eec9fe-cfd7-4e65-8bb9-899a4968d89f",
   "metadata": {},
   "outputs": [
    {
     "name": "stdin",
     "output_type": "stream",
     "text": [
      "enter your pin 1234\n",
      "enter balance 100\n"
     ]
    },
    {
     "name": "stdout",
     "output_type": "stream",
     "text": [
      "pin created sucessfully\n"
     ]
    },
    {
     "name": "stdin",
     "output_type": "stream",
     "text": [
      "\n",
      "        hi how can i help you?\n",
      "        1. press 1 to create pin\n",
      "        2. press 2 to change pin\n",
      "        3. press 3 to check  balance\n",
      "        4. press 4 to withdraw  balance\n",
      "        5. anything else to exit\n",
      "         5\n"
     ]
    },
    {
     "name": "stdout",
     "output_type": "stream",
     "text": [
      "thank you\n"
     ]
    }
   ],
   "source": [
    "obj.create_pin()\n",
    "obj.balance = 'lol' # fresher call this line"
   ]
  },
  {
   "cell_type": "code",
   "execution_count": 23,
   "id": "b1c906f1-157a-43dc-b7af-c84918fdbbeb",
   "metadata": {},
   "outputs": [
    {
     "name": "stdin",
     "output_type": "stream",
     "text": [
      "enter the pin 1234\n",
      "enter amount 1\n"
     ]
    },
    {
     "ename": "TypeError",
     "evalue": "'<=' not supported between instances of 'int' and 'str'",
     "output_type": "error",
     "traceback": [
      "\u001b[1;31m---------------------------------------------------------------------------\u001b[0m",
      "\u001b[1;31mTypeError\u001b[0m                                 Traceback (most recent call last)",
      "Cell \u001b[1;32mIn[23], line 1\u001b[0m\n\u001b[1;32m----> 1\u001b[0m \u001b[43mobj\u001b[49m\u001b[38;5;241;43m.\u001b[39;49m\u001b[43mwithdraw\u001b[49m\u001b[43m(\u001b[49m\u001b[43m)\u001b[49m\n",
      "Cell \u001b[1;32mIn[17], line 78\u001b[0m, in \u001b[0;36mAtm.withdraw\u001b[1;34m(self)\u001b[0m\n\u001b[0;32m     75\u001b[0m \u001b[38;5;28;01mif\u001b[39;00m user_pin \u001b[38;5;241m==\u001b[39m \u001b[38;5;28mself\u001b[39m\u001b[38;5;241m.\u001b[39mpin:\n\u001b[0;32m     76\u001b[0m     \u001b[38;5;66;03m# allow to withdraw\u001b[39;00m\n\u001b[0;32m     77\u001b[0m     amount \u001b[38;5;241m=\u001b[39m \u001b[38;5;28mint\u001b[39m(\u001b[38;5;28minput\u001b[39m(\u001b[38;5;124m'\u001b[39m\u001b[38;5;124menter amount\u001b[39m\u001b[38;5;124m'\u001b[39m))\n\u001b[1;32m---> 78\u001b[0m     \u001b[38;5;28;01mif\u001b[39;00m \u001b[43mamount\u001b[49m\u001b[43m \u001b[49m\u001b[38;5;241;43m<\u001b[39;49m\u001b[38;5;241;43m=\u001b[39;49m\u001b[43m \u001b[49m\u001b[38;5;28;43mself\u001b[39;49m\u001b[38;5;241;43m.\u001b[39;49m\u001b[43mbalance\u001b[49m:\n\u001b[0;32m     79\u001b[0m         \u001b[38;5;28mself\u001b[39m\u001b[38;5;241m.\u001b[39mbalance \u001b[38;5;241m=\u001b[39m \u001b[38;5;28mself\u001b[39m\u001b[38;5;241m.\u001b[39mbalance \u001b[38;5;241m-\u001b[39m amount\n\u001b[0;32m     80\u001b[0m         \u001b[38;5;28mprint\u001b[39m(\u001b[38;5;124m'\u001b[39m\u001b[38;5;124mwithdrawl sucessful balance is:\u001b[39m\u001b[38;5;124m'\u001b[39m,\u001b[38;5;28mself\u001b[39m\u001b[38;5;241m.\u001b[39mbalance) \n",
      "\u001b[1;31mTypeError\u001b[0m: '<=' not supported between instances of 'int' and 'str'"
     ]
    }
   ],
   "source": [
    "obj.withdraw()\n"
   ]
  },
  {
   "cell_type": "markdown",
   "id": "b3259220-aa4c-4a4b-9700-b9780954f4f8",
   "metadata": {},
   "source": [
    "- The reason the code crashed is due to the fresher's mistake:\n",
    "  - The user initially entered a balance of 100.\n",
    "  - However, the junior programmer set the balance to 'lol' using `obj.balance = 'lol'`.\n",
    "  - In the `withdraw` method, the logic is `self.balance = self.balance - amount`.\n",
    "  - The problem arises because `self.balance` has become a string ('lol') instead of a number.\n",
    "  - Subtraction between a string and an integer is not possible, causing the code to crash.\n",
    "  \n",
    "- The senior programmer analyzed the code and found that the issue was caused by the junior programmer setting `balance` to 'lol'.\n",
    "- The core issue is that variables can be accessed and modified from outside the class, which can lead to significant problems.\n",
    "- To prevent such issues, encapsulation uses private variables/attributes.\n",
    "- Private variables are made by adding double underscores before the variable name.\n"
   ]
  },
  {
   "cell_type": "code",
   "execution_count": 12,
   "id": "ac5456fa-d50a-4fdd-87f1-57082a03aadd",
   "metadata": {},
   "outputs": [],
   "source": [
    "class Atm:\n",
    "    \n",
    "    # constructor\n",
    "    def __init__(self):\n",
    "        self.pin = []\n",
    "        self.__balance = 0\n",
    "        #self.menu()\n",
    "        \n",
    "    def menu(self):\n",
    "        user_input = input(\"\"\"\n",
    "        hi how can i help you?\n",
    "        1. press 1 to create pin\n",
    "        2. press 2 to change pin\n",
    "        3. press 3 to check  balance\n",
    "        4. press 4 to withdraw  balance\n",
    "        5. anything else to exit\n",
    "        \"\"\")\n",
    "        \n",
    "        if user_input == '1':\n",
    "            # create pin\n",
    "            self.create_pin() # here will call the function\n",
    "        elif user_input == '2':\n",
    "            # chage pin\n",
    "            self.change_pin()\n",
    "            pass\n",
    "        elif user_input == '3':\n",
    "            # check balance\n",
    "            self.check_balance()\n",
    "            pass\n",
    "        elif user_input == '4':\n",
    "            # withdraw\n",
    "            self.withdraw()\n",
    "            pass\n",
    "        else:\n",
    "            print('thank you')\n",
    "    \n",
    "    def create_pin(self): # we need to write self in brackets because whenver will create a function there will be self parameter in that function\n",
    "        user_pin = input('enter your pin')\n",
    "        self.pin = user_pin # so basically whatever user will provide we are putting it back in constructor\n",
    "        \n",
    "        user_balance = int(input('enter balance'))\n",
    "        self.__balance = user_balance \n",
    "        \n",
    "        print('pin created sucessfully')\n",
    "        self.menu()\n",
    "        \n",
    "    \n",
    "    def change_pin(self):\n",
    "        old_pin = input('enter old pin')\n",
    "        \n",
    "        if old_pin == self.pin:\n",
    "            # let him change the pin\n",
    "            new_pin = input('enter new pin')\n",
    "            if new_pin == old_pin:\n",
    "                print('create valid pin')\n",
    "                self.change_pin()\n",
    "            else:\n",
    "                self.pin = new_pin\n",
    "                print('pin changed sucessfully')\n",
    "                self.menu()\n",
    "        else:\n",
    "            print('invalid pin')\n",
    "            self.menu()\n",
    "            \n",
    "    def check_balance(self):\n",
    "        check_pin = input('enter pin')\n",
    "        if check_pin == self.pin:\n",
    "            print('you balance is:',self.__balance)\n",
    "        else:\n",
    "            print('invalid pin')\n",
    "            self.menu()\n",
    "            \n",
    "    def withdraw(self):\n",
    "        user_pin = input('enter the pin')\n",
    "        if user_pin == self.pin:\n",
    "            # allow to withdraw\n",
    "            amount = int(input('enter amount'))\n",
    "            if amount <= self.__balance:\n",
    "                self.__balance = self.__balance - amount\n",
    "                print('withdrawl sucessful balance is:',self.__balance) \n",
    "            else:\n",
    "                print('insufficient balance')\n",
    "                \n",
    "        else:\n",
    "                print('invalid pin')\n",
    "                self.withdraw()\n",
    "        self.menu()"
   ]
  },
  {
   "cell_type": "markdown",
   "id": "69a0847e-1b87-4543-99f1-73ac88e92d6e",
   "metadata": {},
   "source": [
    "- Not only attributes but also methods can be made private.\n",
    "- For example, we can make the `menu` method private by adding double underscores before the method name.\n"
   ]
  },
  {
   "cell_type": "code",
   "execution_count": 13,
   "id": "b995085f-efe1-4ff5-8b1f-47577ddbe05d",
   "metadata": {},
   "outputs": [],
   "source": [
    "obj = Atm()"
   ]
  },
  {
   "cell_type": "code",
   "execution_count": 14,
   "id": "b96eb951-4e78-4481-a36a-9b926d4c6a26",
   "metadata": {},
   "outputs": [],
   "source": [
    "#obj."
   ]
  },
  {
   "cell_type": "markdown",
   "id": "ec9bb7d0-218b-4368-b43b-253b789bcaed",
   "metadata": {},
   "source": [
    "- When we write `obj.`, we will not see suggestions for attributes or methods with names preceded by double underscores, such as `__balance` and `__menu`.\n",
    "- This demonstrates that we have made them private.\n",
    "\n",
    "- However, consider a scenario where the junior programmer knows that `balance` is private and it is written as `__balance`.\n",
    "- The junior programmer might still attempt to access or modify it directly.\n"
   ]
  },
  {
   "cell_type": "code",
   "execution_count": 15,
   "id": "2aaf03d0-e667-4078-8ddf-686896478771",
   "metadata": {},
   "outputs": [
    {
     "name": "stdin",
     "output_type": "stream",
     "text": [
      "enter your pin 1234\n",
      "enter balance 100\n"
     ]
    },
    {
     "name": "stdout",
     "output_type": "stream",
     "text": [
      "pin created sucessfully\n"
     ]
    },
    {
     "name": "stdin",
     "output_type": "stream",
     "text": [
      "\n",
      "        hi how can i help you?\n",
      "        1. press 1 to create pin\n",
      "        2. press 2 to change pin\n",
      "        3. press 3 to check  balance\n",
      "        4. press 4 to withdraw  balance\n",
      "        5. anything else to exit\n",
      "         5\n"
     ]
    },
    {
     "name": "stdout",
     "output_type": "stream",
     "text": [
      "thank you\n"
     ]
    }
   ],
   "source": [
    "obj.create_pin()\n",
    "obj.__balance = 'lol'"
   ]
  },
  {
   "cell_type": "markdown",
   "id": "7544b665-a574-421d-b362-4611a61d77f0",
   "metadata": {},
   "source": [
    "- so conclusion is we can still change value of private variable"
   ]
  },
  {
   "cell_type": "code",
   "execution_count": 16,
   "id": "51c8cbbf-6c46-4460-9d7b-35984c111909",
   "metadata": {},
   "outputs": [
    {
     "name": "stdin",
     "output_type": "stream",
     "text": [
      "enter the pin 1234\n",
      "enter amount 1\n"
     ]
    },
    {
     "name": "stdout",
     "output_type": "stream",
     "text": [
      "withdrawl sucessful balance is: 99\n"
     ]
    },
    {
     "name": "stdin",
     "output_type": "stream",
     "text": [
      "\n",
      "        hi how can i help you?\n",
      "        1. press 1 to create pin\n",
      "        2. press 2 to change pin\n",
      "        3. press 3 to check  balance\n",
      "        4. press 4 to withdraw  balance\n",
      "        5. anything else to exit\n",
      "         5\n"
     ]
    },
    {
     "name": "stdout",
     "output_type": "stream",
     "text": [
      "thank you\n"
     ]
    }
   ],
   "source": [
    "obj.withdraw()\n"
   ]
  },
  {
   "attachments": {
    "3a4cef90-4bd5-4742-bf2d-5d2569bf155a.png": {
     "image/png": "[encoded data removed]"
    },
    "d9cb2a2c-c565-4eac-8a76-99f4fb260e8e.png": {
     "image/png": "[encoded data removed]"
    }
   },
   "cell_type": "markdown",
   "id": "3d79a5bc-26d3-4fb5-a8dd-da9992da4599",
   "metadata": {},
   "source": [
    "- This time, we didn’t encounter any errors.\n",
    "- Even though the `balance` is now a string, the code didn’t crash.\n",
    "\n",
    "- The reason is:\n",
    "    - When we make a variable private by adding double underscores before the name, such as `__balance`, its name is internally changed to `_Atm__balance`.\n",
    "    - In memory, there is no `__balance` variable; a new variable `_Atm__balance` is created.\n",
    "    - So when the junior programmer sets `__balance = 'lol'`, they are working with a new attribute outside the class.\n",
    "    - Essentially, a new variable `__balance` is created in memory, while `_Atm__balance` remains unaffected and continues to be used in the code.\n",
    "\n",
    "- The advantage is that our code remains based on `_Atm__balance`, not the new `__balance`.\n",
    "\n",
    "- We can see this with a demonstration in Python Tutor:\n",
    "\n",
    "![image.png](attachment:d9cb2a2c-c565-4eac-8a76-99f4fb260e8e.png)\n",
    "- As shown, when we wrote `__name`, the name changed to `_Person__name`.\n",
    "- When we created a new variable `__name` outside, it had a different name in memory, i.e., `__name`.\n",
    "\n",
    "![image.png](attachment:3a4cef90-4bd5-4742-bf2d-5d2569bf155a.png)\n"
   ]
  },
  {
   "cell_type": "markdown",
   "id": "17ce6afc-23a0-4814-b63c-045104b0edd2",
   "metadata": {},
   "source": [
    "- But if the junior programmer understands this concept, they might modify the code as follows:\n"
   ]
  },
  {
   "cell_type": "code",
   "execution_count": 17,
   "id": "01363037-795b-4fc2-ad44-0d3b6bb344e8",
   "metadata": {},
   "outputs": [
    {
     "name": "stdin",
     "output_type": "stream",
     "text": [
      "enter your pin 1234\n",
      "enter balance 100\n"
     ]
    },
    {
     "name": "stdout",
     "output_type": "stream",
     "text": [
      "pin created sucessfully\n"
     ]
    },
    {
     "name": "stdin",
     "output_type": "stream",
     "text": [
      "\n",
      "        hi how can i help you?\n",
      "        1. press 1 to create pin\n",
      "        2. press 2 to change pin\n",
      "        3. press 3 to check  balance\n",
      "        4. press 4 to withdraw  balance\n",
      "        5. anything else to exit\n",
      "         5\n"
     ]
    },
    {
     "name": "stdout",
     "output_type": "stream",
     "text": [
      "thank you\n"
     ]
    }
   ],
   "source": [
    "obj.create_pin()\n",
    "obj._Atm__balance = 'lol'"
   ]
  },
  {
   "cell_type": "code",
   "execution_count": 18,
   "id": "5dee168c-7c62-4c00-8bcc-13b6b88e7865",
   "metadata": {},
   "outputs": [
    {
     "name": "stdin",
     "output_type": "stream",
     "text": [
      "enter the pin 1234\n",
      "enter amount 1\n"
     ]
    },
    {
     "ename": "TypeError",
     "evalue": "'<=' not supported between instances of 'int' and 'str'",
     "output_type": "error",
     "traceback": [
      "\u001b[1;31m-----------------------------------------------------------\u001b[0m",
      "\u001b[1;31mTypeError\u001b[0m                 Traceback (most recent call last)",
      "Cell \u001b[1;32mIn[18], line 1\u001b[0m\n\u001b[1;32m----> 1\u001b[0m \u001b[43mobj\u001b[49m\u001b[38;5;241;43m.\u001b[39;49m\u001b[43mwithdraw\u001b[49m\u001b[43m(\u001b[49m\u001b[43m)\u001b[49m\n",
      "Cell \u001b[1;32mIn[12], line 78\u001b[0m, in \u001b[0;36mAtm.withdraw\u001b[1;34m(self)\u001b[0m\n\u001b[0;32m     75\u001b[0m \u001b[38;5;28;01mif\u001b[39;00m user_pin \u001b[38;5;241m==\u001b[39m \u001b[38;5;28mself\u001b[39m\u001b[38;5;241m.\u001b[39mpin:\n\u001b[0;32m     76\u001b[0m     \u001b[38;5;66;03m# allow to withdraw\u001b[39;00m\n\u001b[0;32m     77\u001b[0m     amount \u001b[38;5;241m=\u001b[39m \u001b[38;5;28mint\u001b[39m(\u001b[38;5;28minput\u001b[39m(\u001b[38;5;124m'\u001b[39m\u001b[38;5;124menter amount\u001b[39m\u001b[38;5;124m'\u001b[39m))\n\u001b[1;32m---> 78\u001b[0m     \u001b[38;5;28;01mif\u001b[39;00m \u001b[43mamount\u001b[49m\u001b[43m \u001b[49m\u001b[38;5;241;43m<\u001b[39;49m\u001b[38;5;241;43m=\u001b[39;49m\u001b[43m \u001b[49m\u001b[38;5;28;43mself\u001b[39;49m\u001b[38;5;241;43m.\u001b[39;49m\u001b[43m__balance\u001b[49m:\n\u001b[0;32m     79\u001b[0m         \u001b[38;5;28mself\u001b[39m\u001b[38;5;241m.\u001b[39m__balance \u001b[38;5;241m=\u001b[39m \u001b[38;5;28mself\u001b[39m\u001b[38;5;241m.\u001b[39m__balance \u001b[38;5;241m-\u001b[39m amount\n\u001b[0;32m     80\u001b[0m         \u001b[38;5;28mprint\u001b[39m(\u001b[38;5;124m'\u001b[39m\u001b[38;5;124mwithdrawl sucessful balance is:\u001b[39m\u001b[38;5;124m'\u001b[39m,\u001b[38;5;28mself\u001b[39m\u001b[38;5;241m.\u001b[39m__balance) \n",
      "\u001b[1;31mTypeError\u001b[0m: '<=' not supported between instances of 'int' and 'str'"
     ]
    }
   ],
   "source": [
    "obj.withdraw()"
   ]
  },
  {
   "cell_type": "markdown",
   "id": "265d7c84-a2f6-4885-8986-755fb1522988",
   "metadata": {},
   "source": [
    "## Why Everything is Not Truly Private in Python\n",
    "\n",
    "- **Python's Design Philosophy**: Python is designed for readability and simplicity, catering to experienced programmers. It does not enforce strict access controls like some other programming languages.\n",
    "\n",
    "- **Access Control in Python**: In Python, if an attribute is marked as private (using a double underscore prefix, e.g., `__attribute`), it signals to programmers that it should not be accessed directly from outside the class. However, this is more of a convention than a strict enforcement. If someone accesses it, it's not a fault of the programming language but rather of the programmer's adherence to conventions.\n",
    "\n",
    "- **Future Changes and Access Needs**: There might be cases where a junior programmer needs to modify private attributes. While a senior programmer might want to restrict direct access to maintain encapsulation, they might still want to allow controlled access.\n",
    "\n",
    "- **Solution with Getters and Setters**: To address this need, Python uses getter and setter methods. These methods provide controlled access to private attributes.\n",
    "\n",
    "  - **Private Variable Access**: When a variable is made private, its value is not accessible outside the class but is accessible within the class itself. This means that all methods within the class can access the private data.\n",
    "\n",
    "  - **Getter Method**: A getter method allows access to the private attribute's value from outside the class. For example, if we have a private attribute `__balance`, we can create a method `get_balance` to return its value.\n",
    "\n",
    "    ```python\n",
    "    def get_balance(self):\n",
    "        return self.__balance\n",
    "    ```\n",
    "\n",
    "  - **Setter Method**: A setter method allows changing the value of a private attribute from outside the class. For example, we can create a method `set_balance` to update the value of `__balance`.\n",
    "\n",
    "    ```python\n",
    "    def set_balance(self, new_balance):\n",
    "        self.__balance = new_balance\n",
    "    ```\n",
    "\n",
    "  - **Encapsulation Solution**: By using getter and setter methods, we solve the dilemma of showing and modifying the value of private variables while keeping them encapsulated within the class.\n"
   ]
  },
  {
   "cell_type": "code",
   "execution_count": 29,
   "id": "227a2a5e-ceba-4b6a-aa65-469d735eb11d",
   "metadata": {},
   "outputs": [],
   "source": [
    "class Atm:\n",
    "    \n",
    "    # constructor\n",
    "    def __init__(self):\n",
    "        self.pin = []\n",
    "        self.__balance = 0\n",
    "        #self.menu()\n",
    "        \n",
    "    def get_balance(self):\n",
    "        return self.__balance\n",
    "        \n",
    "    def set_balance(self, new_balance):\n",
    "        self.__balance = new_balance\n",
    "        \n",
    "    def menu(self):\n",
    "        user_input = input(\"\"\"\n",
    "        hi how can i help you?\n",
    "        1. press 1 to create pin\n",
    "        2. press 2 to change pin\n",
    "        3. press 3 to check  balance\n",
    "        4. press 4 to withdraw  balance\n",
    "        5. anything else to exit\n",
    "        \"\"\")\n",
    "        \n",
    "        if user_input == '1':\n",
    "            # create pin\n",
    "            self.create_pin() # here will call the function\n",
    "        elif user_input == '2':\n",
    "            # chage pin\n",
    "            self.change_pin()\n",
    "            pass\n",
    "        elif user_input == '3':\n",
    "            # check balance\n",
    "            self.check_balance()\n",
    "            pass\n",
    "        elif user_input == '4':\n",
    "            # withdraw\n",
    "            self.withdraw()\n",
    "            pass\n",
    "        else:\n",
    "            print('thank you')\n",
    "    \n",
    "    def create_pin(self): # we need to write self in brackets because whenver will create a function there will be self parameter in that function\n",
    "        user_pin = input('enter your pin')\n",
    "        self.pin = user_pin # so basically whatever user will provide we are putting it back in constructor\n",
    "        \n",
    "        user_balance = int(input('enter balance'))\n",
    "        self.__balance = user_balance \n",
    "        \n",
    "        print('pin created sucessfully')\n",
    "        self.menu()\n",
    "        \n",
    "    \n",
    "    def change_pin(self):\n",
    "        old_pin = input('enter old pin')\n",
    "        \n",
    "        if old_pin == self.pin:\n",
    "            # let him change the pin\n",
    "            new_pin = input('enter new pin')\n",
    "            if new_pin == old_pin:\n",
    "                print('create valid pin')\n",
    "                self.change_pin()\n",
    "            else:\n",
    "                self.pin = new_pin\n",
    "                print('pin changed sucessfully')\n",
    "                self.menu()\n",
    "        else:\n",
    "            print('invalid pin')\n",
    "            self.menu()\n",
    "            \n",
    "    def check_balance(self):\n",
    "        check_pin = input('enter pin')\n",
    "        if check_pin == self.pin:\n",
    "            print('you balance is:',self.__balance)\n",
    "        else:\n",
    "            print('invalid pin')\n",
    "            self.menu()\n",
    "            \n",
    "    def withdraw(self):\n",
    "        user_pin = input('enter the pin')\n",
    "        if user_pin == self.pin:\n",
    "            # allow to withdraw\n",
    "            amount = int(input('enter amount'))\n",
    "            if amount <= self.__balance:\n",
    "                self.__balance = self.__balance - amount\n",
    "                print('withdrawl sucessful balance is:',self.__balance) \n",
    "            else:\n",
    "                print('insufficient balance')\n",
    "                \n",
    "        else:\n",
    "                print('invalid pin')\n",
    "                self.withdraw()\n",
    "        self.menu()"
   ]
  },
  {
   "cell_type": "code",
   "execution_count": 30,
   "id": "3c0cc297-9c9e-460f-bd9a-4107275a833a",
   "metadata": {},
   "outputs": [],
   "source": [
    "obj =Atm()"
   ]
  },
  {
   "cell_type": "code",
   "execution_count": 31,
   "id": "bb7e9bb1-a54a-4858-99cf-db1e30876951",
   "metadata": {},
   "outputs": [
    {
     "data": {
      "text/plain": [
       "0"
      ]
     },
     "execution_count": 31,
     "metadata": {},
     "output_type": "execute_result"
    }
   ],
   "source": [
    "obj.get_balance()"
   ]
  },
  {
   "cell_type": "code",
   "execution_count": 32,
   "id": "12508764-f7be-41cc-844a-e6e2e28cd262",
   "metadata": {},
   "outputs": [],
   "source": [
    "obj.set_balance(1000)"
   ]
  },
  {
   "cell_type": "code",
   "execution_count": 33,
   "id": "8b41d41e-94e4-4a03-89fe-3d20854d29ce",
   "metadata": {},
   "outputs": [
    {
     "data": {
      "text/plain": [
       "1000"
      ]
     },
     "execution_count": 33,
     "metadata": {},
     "output_type": "execute_result"
    }
   ],
   "source": [
    "obj.get_balance()"
   ]
  },
  {
   "cell_type": "markdown",
   "id": "b3cd9578-6be8-4110-aa4a-bf44f2caeefe",
   "metadata": {},
   "source": [
    "- but what if this junior programmer does the same thing he sets value as lol"
   ]
  },
  {
   "cell_type": "code",
   "execution_count": 34,
   "id": "6951cc99-d0ec-4c2b-8f71-6d403e0cbfe5",
   "metadata": {},
   "outputs": [],
   "source": [
    "obj.set_balance('lol')"
   ]
  },
  {
   "cell_type": "code",
   "execution_count": 35,
   "id": "d8062e45-4321-4f2c-991e-30f758fa14a4",
   "metadata": {},
   "outputs": [
    {
     "data": {
      "text/plain": [
       "'lol'"
      ]
     },
     "execution_count": 35,
     "metadata": {},
     "output_type": "execute_result"
    }
   ],
   "source": [
    "obj.get_balance()"
   ]
  },
  {
   "cell_type": "code",
   "execution_count": 36,
   "id": "20dfc300-5952-4f84-b439-5113c6c3dd81",
   "metadata": {},
   "outputs": [
    {
     "name": "stdin",
     "output_type": "stream",
     "text": [
      "enter your pin 1234\n",
      "enter balance 1000\n"
     ]
    },
    {
     "name": "stdout",
     "output_type": "stream",
     "text": [
      "pin created sucessfully\n"
     ]
    },
    {
     "name": "stdin",
     "output_type": "stream",
     "text": [
      "\n",
      "        hi how can i help you?\n",
      "        1. press 1 to create pin\n",
      "        2. press 2 to change pin\n",
      "        3. press 3 to check  balance\n",
      "        4. press 4 to withdraw  balance\n",
      "        5. anything else to exit\n",
      "         5\n"
     ]
    },
    {
     "name": "stdout",
     "output_type": "stream",
     "text": [
      "thank you\n"
     ]
    }
   ],
   "source": [
    "obj.create_pin()\n",
    "obj._Atm__balance = 'lol'"
   ]
  },
  {
   "cell_type": "code",
   "execution_count": 37,
   "id": "b189d79d-41e8-4686-85f5-570eae03f4a9",
   "metadata": {},
   "outputs": [
    {
     "name": "stdin",
     "output_type": "stream",
     "text": [
      "enter the pin 1234\n",
      "enter amount 1\n"
     ]
    },
    {
     "ename": "TypeError",
     "evalue": "'<=' not supported between instances of 'int' and 'str'",
     "output_type": "error",
     "traceback": [
      "\u001b[1;31m-----------------------------------------------------------\u001b[0m",
      "\u001b[1;31mTypeError\u001b[0m                 Traceback (most recent call last)",
      "Cell \u001b[1;32mIn[37], line 1\u001b[0m\n\u001b[1;32m----> 1\u001b[0m \u001b[43mobj\u001b[49m\u001b[38;5;241;43m.\u001b[39;49m\u001b[43mwithdraw\u001b[49m\u001b[43m(\u001b[49m\u001b[43m)\u001b[49m\n",
      "Cell \u001b[1;32mIn[29], line 84\u001b[0m, in \u001b[0;36mAtm.withdraw\u001b[1;34m(self)\u001b[0m\n\u001b[0;32m     81\u001b[0m \u001b[38;5;28;01mif\u001b[39;00m user_pin \u001b[38;5;241m==\u001b[39m \u001b[38;5;28mself\u001b[39m\u001b[38;5;241m.\u001b[39mpin:\n\u001b[0;32m     82\u001b[0m     \u001b[38;5;66;03m# allow to withdraw\u001b[39;00m\n\u001b[0;32m     83\u001b[0m     amount \u001b[38;5;241m=\u001b[39m \u001b[38;5;28mint\u001b[39m(\u001b[38;5;28minput\u001b[39m(\u001b[38;5;124m'\u001b[39m\u001b[38;5;124menter amount\u001b[39m\u001b[38;5;124m'\u001b[39m))\n\u001b[1;32m---> 84\u001b[0m     \u001b[38;5;28;01mif\u001b[39;00m \u001b[43mamount\u001b[49m\u001b[43m \u001b[49m\u001b[38;5;241;43m<\u001b[39;49m\u001b[38;5;241;43m=\u001b[39;49m\u001b[43m \u001b[49m\u001b[38;5;28;43mself\u001b[39;49m\u001b[38;5;241;43m.\u001b[39;49m\u001b[43m__balance\u001b[49m:\n\u001b[0;32m     85\u001b[0m         \u001b[38;5;28mself\u001b[39m\u001b[38;5;241m.\u001b[39m__balance \u001b[38;5;241m=\u001b[39m \u001b[38;5;28mself\u001b[39m\u001b[38;5;241m.\u001b[39m__balance \u001b[38;5;241m-\u001b[39m amount\n\u001b[0;32m     86\u001b[0m         \u001b[38;5;28mprint\u001b[39m(\u001b[38;5;124m'\u001b[39m\u001b[38;5;124mwithdrawl sucessful balance is:\u001b[39m\u001b[38;5;124m'\u001b[39m,\u001b[38;5;28mself\u001b[39m\u001b[38;5;241m.\u001b[39m__balance) \n",
      "\u001b[1;31mTypeError\u001b[0m: '<=' not supported between instances of 'int' and 'str'"
     ]
    }
   ],
   "source": [
    "obj.withdraw()"
   ]
  },
  {
   "cell_type": "markdown",
   "id": "917c274f-d0f1-431b-b531-e019bd603a11",
   "metadata": {},
   "source": [
    "### Benefits of Using Getters and Setters\n",
    "\n",
    "- **Controlled Access**: By using getter and setter methods, we give controlled access to private attributes. This ensures that any changes to the attribute are done through a method with specific logic.\n",
    "\n",
    "- **Encapsulation with Validation**: Since the getter and setter methods are defined within the class, the class owner can enforce additional checks or logic within these methods. For example, if we want to restrict changes to a private attribute only when a valid integer is provided, we can add this validation in the setter method.\n",
    "\n",
    "  - **Example with Validation**: In the setter method for `__balance`, we can include a check to ensure that only integer values are accepted. This way, we maintain data integrity and prevent invalid changes.\n",
    "\n",
    "    ```python\n",
    "    def set_balance(self, new_balance):\n",
    "        if isinstance(new_balance, int):\n",
    "            self.__balance = new_balance\n",
    "        else:\n",
    "            raise ValueError(\"Balance must be an integer\")\n",
    "    ```\n",
    "\n",
    "- **Encapsulation Benefits**: This approach maintains encapsulation while allowing safe and controlled modification of private attributes. It ensures that any changes are validated according to the rules defined in the setter method.\n"
   ]
  },
  {
   "cell_type": "code",
   "execution_count": 38,
   "id": "b16192c5-cfd9-43bc-a1dd-0084d4ae3b19",
   "metadata": {},
   "outputs": [],
   "source": [
    "class Atm:\n",
    "    \n",
    "    # constructor\n",
    "    def __init__(self):\n",
    "        self.pin = []\n",
    "        self.__balance = 0\n",
    "        #self.menu()\n",
    "        \n",
    "    def get_balance(self):\n",
    "        return self.__balance\n",
    "        \n",
    "    def set_balance(self, new_balance):\n",
    "        if type(new_balance) == int:\n",
    "            self.__balance = new_balance\n",
    "        else:\n",
    "            print('invalid value')\n",
    "            \n",
    "            \n",
    "    def menu(self):\n",
    "        user_input = input(\"\"\"\n",
    "        hi how can i help you?\n",
    "        1. press 1 to create pin\n",
    "        2. press 2 to change pin\n",
    "        3. press 3 to check  balance\n",
    "        4. press 4 to withdraw  balance\n",
    "        5. anything else to exit\n",
    "        \"\"\")\n",
    "        \n",
    "        if user_input == '1':\n",
    "            # create pin\n",
    "            self.create_pin() # here will call the function\n",
    "        elif user_input == '2':\n",
    "            # chage pin\n",
    "            self.change_pin()\n",
    "            pass\n",
    "        elif user_input == '3':\n",
    "            # check balance\n",
    "            self.check_balance()\n",
    "            pass\n",
    "        elif user_input == '4':\n",
    "            # withdraw\n",
    "            self.withdraw()\n",
    "            pass\n",
    "        else:\n",
    "            print('thank you')\n",
    "    \n",
    "    def create_pin(self): # we need to write self in brackets because whenver will create a function there will be self parameter in that function\n",
    "        user_pin = input('enter your pin')\n",
    "        self.pin = user_pin # so basically whatever user will provide we are putting it back in constructor\n",
    "        \n",
    "        user_balance = int(input('enter balance'))\n",
    "        self.__balance = user_balance \n",
    "        \n",
    "        print('pin created sucessfully')\n",
    "        self.menu()\n",
    "        \n",
    "    \n",
    "    def change_pin(self):\n",
    "        old_pin = input('enter old pin')\n",
    "        \n",
    "        if old_pin == self.pin:\n",
    "            # let him change the pin\n",
    "            new_pin = input('enter new pin')\n",
    "            if new_pin == old_pin:\n",
    "                print('create valid pin')\n",
    "                self.change_pin()\n",
    "            else:\n",
    "                self.pin = new_pin\n",
    "                print('pin changed sucessfully')\n",
    "                self.menu()\n",
    "        else:\n",
    "            print('invalid pin')\n",
    "            self.menu()\n",
    "            \n",
    "    def check_balance(self):\n",
    "        check_pin = input('enter pin')\n",
    "        if check_pin == self.pin:\n",
    "            print('you balance is:',self.__balance)\n",
    "        else:\n",
    "            print('invalid pin')\n",
    "            self.menu()\n",
    "            \n",
    "    def withdraw(self):\n",
    "        user_pin = input('enter the pin')\n",
    "        if user_pin == self.pin:\n",
    "            # allow to withdraw\n",
    "            amount = int(input('enter amount'))\n",
    "            if amount <= self.__balance:\n",
    "                self.__balance = self.__balance - amount\n",
    "                print('withdrawl sucessful balance is:',self.__balance) \n",
    "            else:\n",
    "                print('insufficient balance')\n",
    "                \n",
    "        else:\n",
    "                print('invalid pin')\n",
    "                self.withdraw()\n",
    "        self.menu()"
   ]
  },
  {
   "cell_type": "code",
   "execution_count": 39,
   "id": "18603068-181d-4b16-97de-869ea2b85912",
   "metadata": {},
   "outputs": [],
   "source": [
    "obj = Atm()"
   ]
  },
  {
   "cell_type": "code",
   "execution_count": 40,
   "id": "53a644c5-0aee-47ee-b756-fc8a8001b394",
   "metadata": {},
   "outputs": [
    {
     "data": {
      "text/plain": [
       "0"
      ]
     },
     "execution_count": 40,
     "metadata": {},
     "output_type": "execute_result"
    }
   ],
   "source": [
    "obj.get_balance()"
   ]
  },
  {
   "cell_type": "code",
   "execution_count": 41,
   "id": "ce69752e-e2f6-42fb-bed2-2a14675b8c2c",
   "metadata": {},
   "outputs": [],
   "source": [
    "obj.set_balance(1000)"
   ]
  },
  {
   "cell_type": "code",
   "execution_count": 42,
   "id": "57a6e85c-ac4e-49af-b97e-84d23dc7b711",
   "metadata": {},
   "outputs": [
    {
     "name": "stdin",
     "output_type": "stream",
     "text": [
      "enter your pin \n",
      "enter balance 1234\n"
     ]
    },
    {
     "name": "stdout",
     "output_type": "stream",
     "text": [
      "pin created sucessfully\n"
     ]
    },
    {
     "name": "stdin",
     "output_type": "stream",
     "text": [
      "\n",
      "        hi how can i help you?\n",
      "        1. press 1 to create pin\n",
      "        2. press 2 to change pin\n",
      "        3. press 3 to check  balance\n",
      "        4. press 4 to withdraw  balance\n",
      "        5. anything else to exit\n",
      "         5\n"
     ]
    },
    {
     "name": "stdout",
     "output_type": "stream",
     "text": [
      "thank you\n"
     ]
    }
   ],
   "source": [
    "obj.create_pin()\n",
    "obj._Atm__balance = 'lol'"
   ]
  },
  {
   "cell_type": "code",
   "execution_count": 43,
   "id": "3c342194-f067-4a9c-9f8b-b1302eb075e7",
   "metadata": {},
   "outputs": [
    {
     "name": "stdout",
     "output_type": "stream",
     "text": [
      "invalid value\n"
     ]
    }
   ],
   "source": [
    "obj.set_balance('lol')"
   ]
  },
  {
   "cell_type": "markdown",
   "id": "f888c2f0-c54f-4dbb-820b-4ac68de81964",
   "metadata": {},
   "source": [
    "### Definition of Encapsulation\n",
    "\n",
    "- **Encapsulation**: Encapsulation is a concept in object-oriented programming where a data attribute and its associated methods (getters and setters) are bundled together. This is akin to how multiple medicine powders are combined into one capsule. In encapsulation, the data is kept private within a class, but can be accessed and modified through methods in a controlled manner.\n",
    "\n",
    "- **Private Attributes with Access**: In our class, attributes are made private to protect them from direct access. However, if we need to expose these attributes outside the class, we do so in a protected manner using getter and setter methods.\n",
    "\n",
    "- **Encapsulation Explained**: The term encapsulation comes from the idea of a capsule, which combines multiple elements (like medicine powders) into one unit. Similarly, encapsulation combines data and its associated methods (getters and setters) into a single unit within a class.\n",
    "\n",
    "- **Need for Encapsulation**: \n",
    "  - **Data Privacy**: Encapsulation helps in keeping data private and secure.\n",
    "  - **Controlled Exposure**: When there is a need to expose private data, it is done through getter and setter methods, which provide a controlled way of accessing and modifying the data.\n",
    "\n",
    "- **Getter and Setter Methods**: For each private attribute, a corresponding set of getter and setter methods is created to allow controlled access and modification of the attribute.\n"
   ]
  },
  {
   "cell_type": "code",
   "execution_count": null,
   "id": "5a020685-e7e6-45df-aa78-06102ae9389f",
   "metadata": {},
   "outputs": [],
   "source": [
    "### Collection of objects \n",
    "- if we want we can create object and store them in dict/tuple/list\n",
    "- lets take eg using our person class and will make 3 person object\n",
    "- then we created a list and stored the 3 object p1, p2, p3"
   ]
  },
  {
   "cell_type": "code",
   "execution_count": 47,
   "id": "41054ee6-2e1e-4e38-b6bf-51df8c3104e6",
   "metadata": {},
   "outputs": [
    {
     "name": "stdout",
     "output_type": "stream",
     "text": [
      "[<__main__.Person object at 0x000001CD90555F60>, <__main__.Person object at 0x000001CD90556D40>, <__main__.Person object at 0x000001CD90555C90>]\n"
     ]
    }
   ],
   "source": [
    "# list of objects\n",
    "class Person:\n",
    "    def __init__(self,name,gender):\n",
    "        self.name = name\n",
    "        self.gender = gender\n",
    "\n",
    "p1 = Person('saurabh','male')\n",
    "p2 = Person('sidd','male')\n",
    "p3 = Person('chavan','male')\n",
    "\n",
    "L = [p1,p2,p3]\n",
    "\n",
    "print(L)\n"
   ]
  },
  {
   "cell_type": "markdown",
   "id": "91190ebf-a9fd-433a-b547-2114d600bb63",
   "metadata": {},
   "source": [
    "### Debugging and Output in Classes\n",
    "\n",
    "- **Missing `__str__` Method**: The reason the output was not printed is that our class did not have a `__str__` method. The `__str__` method is used to define a string representation for instances of the class, which is what gets printed when we attempt to output the object.\n",
    "\n",
    "- **Creating and Looping Through a List**: Despite the missing `__str__` method, you can still create a list of objects and loop through it. By iterating over the list, you can perform operations on each object individually or access their attributes and methods.\n"
   ]
  },
  {
   "cell_type": "code",
   "execution_count": 50,
   "id": "d2ea2966-2900-476c-9348-f95d04d9571a",
   "metadata": {},
   "outputs": [
    {
     "name": "stdout",
     "output_type": "stream",
     "text": [
      "<__main__.Person object at 0x000001CD90555CF0>\n",
      "<__main__.Person object at 0x000001CD90557EB0>\n",
      "<__main__.Person object at 0x000001CD90556E90>\n"
     ]
    }
   ],
   "source": [
    "# list of objects\n",
    "class Person:\n",
    "    def __init__(self,name,gender):\n",
    "        self.name = name\n",
    "        self.gender = gender\n",
    "\n",
    "p1 = Person('saurabh','male')\n",
    "p2 = Person('sidd','male')\n",
    "p3 = Person('chavan','male')\n",
    "\n",
    "L = [p1,p2,p3]\n",
    "\n",
    "for i in L:\n",
    "    print(i)"
   ]
  },
  {
   "cell_type": "code",
   "execution_count": 51,
   "id": "ad3b645f-0630-4b59-b03c-f5a320c542ae",
   "metadata": {},
   "outputs": [
    {
     "name": "stdout",
     "output_type": "stream",
     "text": [
      "saurabh male\n",
      "sidd male\n",
      "chavan male\n"
     ]
    }
   ],
   "source": [
    "# list of objects\n",
    "class Person:\n",
    "    def __init__(self,name,gender):\n",
    "        self.name = name\n",
    "        self.gender = gender\n",
    "\n",
    "p1 = Person('saurabh','male')\n",
    "p2 = Person('sidd','male')\n",
    "p3 = Person('chavan','male')\n",
    "\n",
    "L = [p1,p2,p3]\n",
    "\n",
    "for i in L:\n",
    "    print(i.name,i.gender)"
   ]
  },
  {
   "cell_type": "code",
   "execution_count": 54,
   "id": "6096dcbc-4736-4b66-a779-85dc39c06b1d",
   "metadata": {},
   "outputs": [
    {
     "name": "stdout",
     "output_type": "stream",
     "text": [
      "male\n",
      "male\n",
      "male\n"
     ]
    }
   ],
   "source": [
    "# list of objects\n",
    "class Person:\n",
    "    def __init__(self,name,gender):\n",
    "        self.name = name\n",
    "        self.gender = gender\n",
    "\n",
    "p1 = Person('saurabh','male')\n",
    "p2 = Person('sidd','male')\n",
    "p3 = Person('chavan','male')\n",
    "\n",
    "d = {'p1':p1,'p2':p2,'p3':p3}\n",
    "\n",
    "for i in d:\n",
    "    print(d[i].gender)"
   ]
  },
  {
   "cell_type": "markdown",
   "id": "80280169-5b51-4740-936f-1d1206093d61",
   "metadata": {},
   "source": [
    "### Static Variables(Vs Instance variables)\n",
    "- will consider the atm code agian to understand\n",
    "- lets say we want to create customer id which will increment by 1\n",
    "- so instance variable is a variable of a object whereas static variable is a variable of a class\n",
    "- suppose in our code we add cid and increment it if we see out put we wont be able to increment because tht cid is instance variable \n",
    "- see foll eg"
   ]
  },
  {
   "cell_type": "code",
   "execution_count": 55,
   "id": "8c327634-cbfb-496c-af68-35115409db94",
   "metadata": {},
   "outputs": [],
   "source": [
    "class Atm:\n",
    "    \n",
    "    # constructor\n",
    "    def __init__(self):\n",
    "        self.pin = []\n",
    "        self.__balance = 0\n",
    "        self.cid = 0\n",
    "        self.cid += 1\n",
    "        #self.menu()\n",
    "        \n",
    "    def get_balance(self):\n",
    "        return self.__balance\n",
    "        \n",
    "    def set_balance(self, new_balance):\n",
    "        if type(new_balance) == int:\n",
    "            self.__balance = new_balance\n",
    "        else:\n",
    "            print('invalid value')\n",
    "            \n",
    "            \n",
    "    def menu(self):\n",
    "        user_input = input(\"\"\"\n",
    "        hi how can i help you?\n",
    "        1. press 1 to create pin\n",
    "        2. press 2 to change pin\n",
    "        3. press 3 to check  balance\n",
    "        4. press 4 to withdraw  balance\n",
    "        5. anything else to exit\n",
    "        \"\"\")\n",
    "        \n",
    "        if user_input == '1':\n",
    "            # create pin\n",
    "            self.create_pin() # here will call the function\n",
    "        elif user_input == '2':\n",
    "            # chage pin\n",
    "            self.change_pin()\n",
    "            pass\n",
    "        elif user_input == '3':\n",
    "            # check balance\n",
    "            self.check_balance()\n",
    "            pass\n",
    "        elif user_input == '4':\n",
    "            # withdraw\n",
    "            self.withdraw()\n",
    "            pass\n",
    "        else:\n",
    "            print('thank you')\n",
    "    \n",
    "    def create_pin(self): # we need to write self in brackets because whenver will create a function there will be self parameter in that function\n",
    "        user_pin = input('enter your pin')\n",
    "        self.pin = user_pin # so basically whatever user will provide we are putting it back in constructor\n",
    "        \n",
    "        user_balance = int(input('enter balance'))\n",
    "        self.__balance = user_balance \n",
    "        \n",
    "        print('pin created sucessfully')\n",
    "        self.menu()\n",
    "        \n",
    "    \n",
    "    def change_pin(self):\n",
    "        old_pin = input('enter old pin')\n",
    "        \n",
    "        if old_pin == self.pin:\n",
    "            # let him change the pin\n",
    "            new_pin = input('enter new pin')\n",
    "            if new_pin == old_pin:\n",
    "                print('create valid pin')\n",
    "                self.change_pin()\n",
    "            else:\n",
    "                self.pin = new_pin\n",
    "                print('pin changed sucessfully')\n",
    "                self.menu()\n",
    "        else:\n",
    "            print('invalid pin')\n",
    "            self.menu()\n",
    "            \n",
    "    def check_balance(self):\n",
    "        check_pin = input('enter pin')\n",
    "        if check_pin == self.pin:\n",
    "            print('you balance is:',self.__balance)\n",
    "        else:\n",
    "            print('invalid pin')\n",
    "            self.menu()\n",
    "            \n",
    "    def withdraw(self):\n",
    "        user_pin = input('enter the pin')\n",
    "        if user_pin == self.pin:\n",
    "            # allow to withdraw\n",
    "            amount = int(input('enter amount'))\n",
    "            if amount <= self.__balance:\n",
    "                self.__balance = self.__balance - amount\n",
    "                print('withdrawl sucessful balance is:',self.__balance) \n",
    "            else:\n",
    "                print('insufficient balance')\n",
    "                \n",
    "        else:\n",
    "                print('invalid pin')\n",
    "                self.withdraw()\n",
    "        self.menu()"
   ]
  },
  {
   "cell_type": "code",
   "execution_count": 56,
   "id": "b6699fec-ddc1-4639-a8ce-f9b8934a9c51",
   "metadata": {},
   "outputs": [],
   "source": [
    "c1 = Atm()"
   ]
  },
  {
   "cell_type": "code",
   "execution_count": 62,
   "id": "8c7cbe5c-4023-4cac-94f2-c5d24e11c3ec",
   "metadata": {},
   "outputs": [],
   "source": [
    "c2 = Atm()"
   ]
  },
  {
   "cell_type": "code",
   "execution_count": 63,
   "id": "6d0d7978-d93a-4c73-a42e-d112d68adfe2",
   "metadata": {},
   "outputs": [],
   "source": [
    "c3 = Atm()"
   ]
  },
  {
   "cell_type": "code",
   "execution_count": 64,
   "id": "9f956895-0b02-4d94-9799-a3eb07b835a9",
   "metadata": {},
   "outputs": [
    {
     "data": {
      "text/plain": [
       "1"
      ]
     },
     "execution_count": 64,
     "metadata": {},
     "output_type": "execute_result"
    }
   ],
   "source": [
    "c1.cid"
   ]
  },
  {
   "cell_type": "code",
   "execution_count": 65,
   "id": "0501e6bb-2c2f-40fc-932b-5e2e88200200",
   "metadata": {},
   "outputs": [
    {
     "data": {
      "text/plain": [
       "1"
      ]
     },
     "execution_count": 65,
     "metadata": {},
     "output_type": "execute_result"
    }
   ],
   "source": [
    "c2.cid"
   ]
  },
  {
   "cell_type": "code",
   "execution_count": 67,
   "id": "3d4e991d-f740-4636-ada5-4a1720d5f630",
   "metadata": {},
   "outputs": [
    {
     "data": {
      "text/plain": [
       "1"
      ]
     },
     "execution_count": 67,
     "metadata": {},
     "output_type": "execute_result"
    }
   ],
   "source": [
    "c3.cid"
   ]
  },
  {
   "cell_type": "markdown",
   "id": "e1b1ebd7-ac41-41d0-876b-23b40eba64cc",
   "metadata": {},
   "source": [
    "### Instance vs. Static Variables\n",
    "\n",
    "- **Instance Variables**: \n",
    "  - Instance variables are unique to each object created from a class. \n",
    "  - For example, when creating multiple objects like `c1`, `c2`, and `c3`, each object has its own copy of instance variables. \n",
    "  - In the given scenario, the `customer_id` variable is an instance variable. When the constructor is executed for `c1`, `c2`, and `c3`, `cid` is initialized to `0` and then incremented independently for each object. Hence, `customer_id` values are not shared among the objects.\n",
    "\n",
    "- **Problem with Instance Variables**:\n",
    "  - Using instance variables for a counter (such as `customer_id`) results in each object having its own separate counter. Therefore, `c1`, `c2`, and `c3` will not have incrementing `customer_id` values in sync.\n",
    "\n",
    "- **Static Variables**:\n",
    "  - Static variables, also known as class variables, are shared among all instances of a class. They are not tied to any single object.\n",
    "  - If `customer_id` were defined as a static variable, all objects would share the same `customer_id` value. This means if `c1` has `customer_id = 1`, then `c2` and `c3` would also have `customer_id = 1`.\n",
    "\n",
    "- **Implementation**:\n",
    "  - To implement a counter using a static variable, you define the variable outside of all methods in the class but within the class body.\n"
   ]
  },
  {
   "cell_type": "code",
   "execution_count": 78,
   "id": "f7b44d72-c885-4132-b450-bb8c74e689ad",
   "metadata": {},
   "outputs": [],
   "source": [
    "class Atm:\n",
    "    \n",
    "    \n",
    "    \n",
    "    counter = 1\n",
    "\n",
    "    # constructor\n",
    "    def __init__(self):\n",
    "        self.pin = []\n",
    "        self.__balance = 0\n",
    "        self.cid = Atm.counter\n",
    "        Atm.counter += 1\n",
    "        #self.menu()\n",
    "        \n",
    "    def get_balance(self):\n",
    "        return self.__balance\n",
    "        \n",
    "    def set_balance(self, new_balance):\n",
    "        if type(new_balance) == int:\n",
    "            self.__balance = new_balance\n",
    "        else:\n",
    "            print('invalid value')\n",
    "            \n",
    "            \n",
    "    def menu(self):\n",
    "        user_input = input(\"\"\"\n",
    "        hi how can i help you?\n",
    "        1. press 1 to create pin\n",
    "        2. press 2 to change pin\n",
    "        3. press 3 to check  balance\n",
    "        4. press 4 to withdraw  balance\n",
    "        5. anything else to exit\n",
    "        \"\"\")\n",
    "        \n",
    "        if user_input == '1':\n",
    "            # create pin\n",
    "            self.create_pin() # here will call the function\n",
    "        elif user_input == '2':\n",
    "            # chage pin\n",
    "            self.change_pin()\n",
    "            pass\n",
    "        elif user_input == '3':\n",
    "            # check balance\n",
    "            self.check_balance()\n",
    "            pass\n",
    "        elif user_input == '4':\n",
    "            # withdraw\n",
    "            self.withdraw()\n",
    "            pass\n",
    "        else:\n",
    "            print('thank you')\n",
    "    \n",
    "    def create_pin(self): # we need to write self in brackets because whenver will create a function there will be self parameter in that function\n",
    "        user_pin = input('enter your pin')\n",
    "        self.pin = user_pin # so basically whatever user will provide we are putting it back in constructor\n",
    "        \n",
    "        user_balance = int(input('enter balance'))\n",
    "        self.__balance = user_balance \n",
    "        \n",
    "        print('pin created sucessfully')\n",
    "        self.menu()\n",
    "        \n",
    "    \n",
    "    def change_pin(self):\n",
    "        old_pin = input('enter old pin')\n",
    "        \n",
    "        if old_pin == self.pin:\n",
    "            # let him change the pin\n",
    "            new_pin = input('enter new pin')\n",
    "            if new_pin == old_pin:\n",
    "                print('create valid pin')\n",
    "                self.change_pin()\n",
    "            else:\n",
    "                self.pin = new_pin\n",
    "                print('pin changed sucessfully')\n",
    "                self.menu()\n",
    "        else:\n",
    "            print('invalid pin')\n",
    "            self.menu()\n",
    "            \n",
    "    def check_balance(self):\n",
    "        check_pin = input('enter pin')\n",
    "        if check_pin == self.pin:\n",
    "            print('you balance is:',self.__balance)\n",
    "        else:\n",
    "            print('invalid pin')\n",
    "            self.menu()\n",
    "            \n",
    "    def withdraw(self):\n",
    "        user_pin = input('enter the pin')\n",
    "        if user_pin == self.pin:\n",
    "            # allow to withdraw\n",
    "            amount = int(input('enter amount'))\n",
    "            if amount <= self.__balance:\n",
    "                self.__balance = self.__balance - amount\n",
    "                print('withdrawl sucessful balance is:',self.__balance) \n",
    "            else:\n",
    "                print('insufficient balance')\n",
    "                \n",
    "        else:\n",
    "                print('invalid pin')\n",
    "                self.withdraw()\n",
    "        self.menu()"
   ]
  },
  {
   "cell_type": "markdown",
   "id": "60c44348-d86e-4a58-b136-aeee580e84f3",
   "metadata": {},
   "source": [
    "### Accessing Static vs. Instance Variables\n",
    "\n",
    "- **Static Variables**:\n",
    "  - Static variables are shared among all instances of a class. They are accessed using the class name.\n",
    "  - For example, if `counter` is a static variable in the `Atm` class, you would access it as `Atm.counter`.\n",
    "  - Static variables are defined outside all methods within the class body.\n",
    "\n",
    "- **Instance Variables**:\n",
    "  - Instance variables are unique to each object. They are accessed using the object instance.\n",
    "  - For instance, if `pin` is an instance variable, it is accessed as `self.pin`, where `self` refers to the current object.\n"
   ]
  },
  {
   "cell_type": "code",
   "execution_count": 79,
   "id": "a39b91ec-ba1d-4865-bfd2-69e7a7dd86b7",
   "metadata": {},
   "outputs": [],
   "source": [
    "c1 = Atm()"
   ]
  },
  {
   "cell_type": "code",
   "execution_count": 80,
   "id": "6acee7da-98d6-40d3-96ce-0ce7b7153668",
   "metadata": {},
   "outputs": [],
   "source": [
    "c2 = Atm()"
   ]
  },
  {
   "cell_type": "code",
   "execution_count": 81,
   "id": "7074cdb9-eadd-4153-a0e8-3c0f30719dab",
   "metadata": {},
   "outputs": [],
   "source": [
    "c3 = Atm()"
   ]
  },
  {
   "cell_type": "code",
   "execution_count": 82,
   "id": "dd2164fc-f417-44e8-a49b-fc75e688550b",
   "metadata": {},
   "outputs": [
    {
     "data": {
      "text/plain": [
       "1"
      ]
     },
     "execution_count": 82,
     "metadata": {},
     "output_type": "execute_result"
    }
   ],
   "source": [
    "c1.cid"
   ]
  },
  {
   "cell_type": "code",
   "execution_count": 83,
   "id": "30c511f3-801e-49cf-a83c-b01e63854622",
   "metadata": {},
   "outputs": [
    {
     "data": {
      "text/plain": [
       "2"
      ]
     },
     "execution_count": 83,
     "metadata": {},
     "output_type": "execute_result"
    }
   ],
   "source": [
    "c2.cid"
   ]
  },
  {
   "cell_type": "code",
   "execution_count": 84,
   "id": "7a3b7ea0-a219-4c12-93ad-6f7f49581ec4",
   "metadata": {},
   "outputs": [
    {
     "data": {
      "text/plain": [
       "3"
      ]
     },
     "execution_count": 84,
     "metadata": {},
     "output_type": "execute_result"
    }
   ],
   "source": [
    "c3.cid"
   ]
  },
  {
   "cell_type": "markdown",
   "id": "72af715e-fd9f-43c8-bfda-1983f98a5f7c",
   "metadata": {},
   "source": [
    "### Handling Static Variables with Getter and Setter Methods\n",
    "\n",
    "#### Avoiding Errors with Static Variables\n",
    "\n",
    "- To prevent errors like those encountered with the `balance` example (where a non-numeric value causes issues), static variables can be made private.\n",
    "- Private static variables are intended to be accessed only within the class. To manage access, getter and setter methods can be used.\n",
    "\n",
    "#### Using Getter and Setter Methods\n",
    "\n",
    "- **Private Static Variable**:\n",
    "  - Static variables can be made private by prefixing them with double underscores (`__`), making them inaccessible from outside the class.\n",
    "\n",
    "- **Getter and Setter Methods**:\n",
    "  - Getter and setter methods are used to access and modify private static variables.\n",
    "  - These methods are part of the class, not the individual objects, and can be accessed using the class name.\n"
   ]
  },
  {
   "cell_type": "code",
   "execution_count": 95,
   "id": "f33406fe-eaea-44cd-b1ea-4c8dedde1a89",
   "metadata": {},
   "outputs": [],
   "source": [
    "class Atm:\n",
    "    \n",
    "    \n",
    "    \n",
    "    __counter = 1\n",
    "\n",
    "    # constructor\n",
    "    def __init__(self):\n",
    "        self.pin = []\n",
    "        self.__balance = 0\n",
    "        self.cid = Atm.__counter\n",
    "        Atm.__counter += 1\n",
    "        #self.menu()\n",
    "      \n",
    "    @staticmethod   \n",
    "    def get_counter():\n",
    "        return Atm.__counter\n",
    "    \n",
    "    def get_balance(self):\n",
    "        return self.__balance\n",
    "        \n",
    "    def set_balance(self, new_balance):\n",
    "        if type(new_balance) == int:\n",
    "            self.__balance = new_balance\n",
    "        else:\n",
    "            print('invalid value')\n",
    "            \n",
    "            \n",
    "    def menu(self):\n",
    "        user_input = input(\"\"\"\n",
    "        hi how can i help you?\n",
    "        1. press 1 to create pin\n",
    "        2. press 2 to change pin\n",
    "        3. press 3 to check  balance\n",
    "        4. press 4 to withdraw  balance\n",
    "        5. anything else to exit\n",
    "        \"\"\")\n",
    "        \n",
    "        if user_input == '1':\n",
    "            # create pin\n",
    "            self.create_pin() # here will call the function\n",
    "        elif user_input == '2':\n",
    "            # chage pin\n",
    "            self.change_pin()\n",
    "            pass\n",
    "        elif user_input == '3':\n",
    "            # check balance\n",
    "            self.check_balance()\n",
    "            pass\n",
    "        elif user_input == '4':\n",
    "            # withdraw\n",
    "            self.withdraw()\n",
    "            pass\n",
    "        else:\n",
    "            print('thank you')\n",
    "    \n",
    "    def create_pin(self): # we need to write self in brackets because whenver will create a function there will be self parameter in that function\n",
    "        user_pin = input('enter your pin')\n",
    "        self.pin = user_pin # so basically whatever user will provide we are putting it back in constructor\n",
    "        \n",
    "        user_balance = int(input('enter balance'))\n",
    "        self.__balance = user_balance \n",
    "        \n",
    "        print('pin created sucessfully')\n",
    "        self.menu()\n",
    "        \n",
    "    \n",
    "    def change_pin(self):\n",
    "        old_pin = input('enter old pin')\n",
    "        \n",
    "        if old_pin == self.pin:\n",
    "            # let him change the pin\n",
    "            new_pin = input('enter new pin')\n",
    "            if new_pin == old_pin:\n",
    "                print('create valid pin')\n",
    "                self.change_pin()\n",
    "            else:\n",
    "                self.pin = new_pin\n",
    "                print('pin changed sucessfully')\n",
    "                self.menu()\n",
    "        else:\n",
    "            print('invalid pin')\n",
    "            self.menu()\n",
    "            \n",
    "    def check_balance(self):\n",
    "        check_pin = input('enter pin')\n",
    "        if check_pin == self.pin:\n",
    "            print('you balance is:',self.__balance)\n",
    "        else:\n",
    "            print('invalid pin')\n",
    "            self.menu()\n",
    "            \n",
    "    def withdraw(self):\n",
    "        user_pin = input('enter the pin')\n",
    "        if user_pin == self.pin:\n",
    "            # allow to withdraw\n",
    "            amount = int(input('enter amount'))\n",
    "            if amount <= self.__balance:\n",
    "                self.__balance = self.__balance - amount\n",
    "                print('withdrawl sucessful balance is:',self.__balance) \n",
    "            else:\n",
    "                print('insufficient balance')\n",
    "                \n",
    "        else:\n",
    "                print('invalid pin')\n",
    "                self.withdraw()\n",
    "        self.menu()"
   ]
  },
  {
   "cell_type": "markdown",
   "id": "ee212656-2f74-44e8-be9f-269106f43961",
   "metadata": {},
   "source": [
    "### Static Methods in Python\n",
    "\n",
    "#### Identifying Static Methods\n",
    "\n",
    "- **`@staticmethod` Decorator**:\n",
    "  - To define a static method in a class, use the `@staticmethod` decorator.\n",
    "  - Static methods do not require access to the instance (`self`) or the class (`cls`).\n",
    "  - They are often used for utility functions that perform tasks related to the class but do not need to access or modify class or instance attributes.\n"
   ]
  },
  {
   "cell_type": "code",
   "execution_count": 96,
   "id": "967dae35-e4a8-481d-a480-ae9e7e0ff7bc",
   "metadata": {},
   "outputs": [],
   "source": [
    "c1 = Atm()"
   ]
  },
  {
   "cell_type": "code",
   "execution_count": 97,
   "id": "d2b22ddd-ba35-4a21-b27a-7dbf3fb32650",
   "metadata": {},
   "outputs": [
    {
     "data": {
      "text/plain": [
       "2"
      ]
     },
     "execution_count": 97,
     "metadata": {},
     "output_type": "execute_result"
    }
   ],
   "source": [
    "Atm.get_counter()"
   ]
  },
  {
   "cell_type": "code",
   "execution_count": null,
   "id": "85f0ac18-dbb9-4d00-860c-b560a6f644aa",
   "metadata": {},
   "outputs": [],
   "source": []
  }
 ],
 "metadata": {
  "kernelspec": {
   "display_name": "Python 3 (ipykernel)",
   "language": "python",
   "name": "python3"
  },
  "language_info": {
   "codemirror_mode": {
    "name": "ipython",
    "version": 3
   },
   "file_extension": ".py",
   "mimetype": "text/x-python",
   "name": "python",
   "nbconvert_exporter": "python",
   "pygments_lexer": "ipython3",
   "version": "3.10.9"
  }
 },
 "nbformat": 4,
 "nbformat_minor": 5
}
