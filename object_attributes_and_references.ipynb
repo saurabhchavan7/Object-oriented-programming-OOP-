{
 "cells": [
  {
   "cell_type": "markdown",
   "id": "f25db3a3-ba2c-46eb-bbc7-49c6eb847179",
   "metadata": {},
   "source": [
    "### How Objects Access Attributes\n",
    "\n",
    "- Till now, whenever we created classes, we also created their objects.\n",
    "- Let's review how objects access attributes.\n",
    "- Consider the following example where we have a class named `Person`:\n",
    "  - Inside the `Person` class, there is a constructor (`__init__`) that takes two inputs from the user: `name` and `country`.\n",
    "  - These two inputs are then stored in instance variables.\n",
    "  - There is also a `greet` method inside the class, which decides based on the user's country whether to say \"Hello\" or \"Namaste.\"\n"
   ]
  },
  {
   "cell_type": "code",
   "execution_count": 19,
   "id": "1bd7baeb-9f37-4c87-836f-07877e6ae46e",
   "metadata": {},
   "outputs": [],
   "source": [
    "class Person:\n",
    "    def __init__(self,name_input,country_input):\n",
    "        self.name = name_input\n",
    "        self.country = country_input\n",
    "    \n",
    "    def __str__(self):\n",
    "        return 'name:{},country:{}'.format(self.name,self.country)\n",
    "        \n",
    "    \n",
    "\n",
    "    def greet(self):\n",
    "        if self.country == 'india':\n",
    "            print('Namaste',self.name)\n",
    "        else:\n",
    "            print('Hello',self.name)\n"
   ]
  },
  {
   "cell_type": "markdown",
   "id": "bf0667c8-9015-40fb-a77e-3b22c5f1acfc",
   "metadata": {},
   "source": [
    "### How Object Accesses the Attribute\n",
    "\n",
    "- Attribute refers to how an object will access the data stored within a class.\n",
    "- First, we execute the `Person` class.\n",
    "- Then, we create a person named 'Saurabh' with nationality 'India'.\n",
    "- Now, an object `p` is created.\n",
    "- If we write `p` followed by a dot (`.`), we will get suggestions like `country`, `greet`, and `name`, which are the available attributes and methods of the class.\n"
   ]
  },
  {
   "cell_type": "code",
   "execution_count": 20,
   "id": "7bda364c-008f-4b31-a633-32ff49cad539",
   "metadata": {},
   "outputs": [],
   "source": [
    "p = Person('saurabh','india')"
   ]
  },
  {
   "cell_type": "code",
   "execution_count": 21,
   "id": "632d7d62-7e0d-40a2-8e6f-be5165eaa7c2",
   "metadata": {},
   "outputs": [],
   "source": [
    "# p."
   ]
  },
  {
   "cell_type": "markdown",
   "id": "31f343df-c136-4aa3-b37e-0409a7cbacf6",
   "metadata": {},
   "source": [
    "- When we create an object of any class, the object has the ability to access all the attributes and methods of that class.\n",
    "- That is why we can access the attributes `country` and `name`, as well as the method `greet()`, through the object.\n"
   ]
  },
  {
   "cell_type": "code",
   "execution_count": 28,
   "id": "7365a6e0-aef3-4967-8029-c843d9898d17",
   "metadata": {},
   "outputs": [
    {
     "data": {
      "text/plain": [
       "'india'"
      ]
     },
     "execution_count": 28,
     "metadata": {},
     "output_type": "execute_result"
    }
   ],
   "source": [
    "p.country"
   ]
  },
  {
   "cell_type": "code",
   "execution_count": 23,
   "id": "5697730f-9660-4b87-b657-817c22de45f2",
   "metadata": {},
   "outputs": [
    {
     "data": {
      "text/plain": [
       "'saurabh'"
      ]
     },
     "execution_count": 23,
     "metadata": {},
     "output_type": "execute_result"
    }
   ],
   "source": [
    "p.name"
   ]
  },
  {
   "cell_type": "code",
   "execution_count": 29,
   "id": "4c6a7e7d-f22e-4ffd-b67e-e75ef1d4708b",
   "metadata": {},
   "outputs": [
    {
     "name": "stdout",
     "output_type": "stream",
     "text": [
      "Namaste saurabh\n"
     ]
    }
   ],
   "source": [
    "p.greet() # to  call method we have to apply brackets"
   ]
  },
  {
   "cell_type": "markdown",
   "id": "bb6764c5-44f0-43d8-b4c7-b99aa3731816",
   "metadata": {},
   "source": [
    "- what if we try to acces an attribute which is not in my class"
   ]
  },
  {
   "cell_type": "code",
   "execution_count": 30,
   "id": "33a516f9-0a68-4e9e-a0df-3676b246d9d5",
   "metadata": {},
   "outputs": [
    {
     "ename": "AttributeError",
     "evalue": "'Person' object has no attribute 'gender'",
     "output_type": "error",
     "traceback": [
      "\u001b[1;31m---------------------------------------------------------------------------\u001b[0m",
      "\u001b[1;31mAttributeError\u001b[0m                            Traceback (most recent call last)",
      "Cell \u001b[1;32mIn[30], line 1\u001b[0m\n\u001b[1;32m----> 1\u001b[0m \u001b[43mp\u001b[49m\u001b[38;5;241;43m.\u001b[39;49m\u001b[43mgender\u001b[49m\n",
      "\u001b[1;31mAttributeError\u001b[0m: 'Person' object has no attribute 'gender'"
     ]
    }
   ],
   "source": [
    "p.gender"
   ]
  },
  {
   "cell_type": "markdown",
   "id": "6e6cc062-95de-4412-bfe1-efebca0f1962",
   "metadata": {},
   "source": [
    "AttributeError: 'Person' object has no attribute 'gender'\n",
    "\n",
    "- Just like how there is no `append` method for strings, if an attribute doesn't exist in the class, it cannot be accessed.\n",
    "- In this case, the `Person` class does not have an attribute named `gender`, which results in the `AttributeError`.\n"
   ]
  },
  {
   "cell_type": "markdown",
   "id": "48e57450-624c-43d6-909e-de1206503ed2",
   "metadata": {},
   "source": [
    "### Attribute creation from outside of the class"
   ]
  },
  {
   "cell_type": "code",
   "execution_count": 32,
   "id": "e7e74167-ee5f-42a5-8865-5ee9c444aa54",
   "metadata": {},
   "outputs": [],
   "source": [
    "p.gender = 'male'"
   ]
  },
  {
   "cell_type": "code",
   "execution_count": 33,
   "id": "65b6a68a-9d67-46b1-b46c-0a6eeb21819e",
   "metadata": {},
   "outputs": [
    {
     "data": {
      "text/plain": [
       "'male'"
      ]
     },
     "execution_count": 33,
     "metadata": {},
     "output_type": "execute_result"
    }
   ],
   "source": [
    "p.gender"
   ]
  },
  {
   "cell_type": "markdown",
   "id": "76763aec-d330-470c-b073-21239fd57af9",
   "metadata": {},
   "source": [
    "- We didn't get an error because we created a new attribute outside of the class.\n",
    "- By assigning `p.gender = 'male'`, we added the `gender` attribute to the object `p`.\n",
    "- Now, if we write `p.gender`, the value will be printed.\n",
    "- This demonstrates that attributes can be created outside the class using the object.\n"
   ]
  },
  {
   "cell_type": "markdown",
   "id": "f59cca16-89de-4c5e-a345-dca6b52b4e8d",
   "metadata": {},
   "source": [
    "### Reference Variables\n",
    "\n",
    "- Reference variables hold the objects.\n",
    "- We can create objects without using a reference variable as well.\n",
    "- An object can have multiple reference variables.\n",
    "- Assigning a new reference variable to an existing object does not create a new object.\n"
   ]
  },
  {
   "cell_type": "markdown",
   "id": "c9a6d993-340b-4c71-af31-ebb554460fee",
   "metadata": {},
   "source": [
    "- Let's take the same example where we have a class `Person` with `name` and `gender` variables.\n",
    "- Normally, to create an object, we write `p = Person()` and an object `p` is created.\n",
    "- But what happens if we only write `Person()` without storing it into a variable?\n"
   ]
  },
  {
   "cell_type": "code",
   "execution_count": 39,
   "id": "4977a1b7-5888-4bd0-b87e-aba65cf0fd6a",
   "metadata": {},
   "outputs": [],
   "source": [
    "# object without a reference\n",
    "class Person:\n",
    "\n",
    "      def __init__(self):\n",
    "        self.name = 'saurabh'\n",
    "        self.gender = 'male'\n",
    "\n"
   ]
  },
  {
   "cell_type": "code",
   "execution_count": 40,
   "id": "6a894453-d75a-4155-aa38-d978d8200990",
   "metadata": {},
   "outputs": [],
   "source": [
    "p = Person()\n"
   ]
  },
  {
   "cell_type": "code",
   "execution_count": 41,
   "id": "b6a0b0fb-da8c-4930-b89a-67361c1014f5",
   "metadata": {},
   "outputs": [
    {
     "data": {
      "text/plain": [
       "<__main__.Person at 0x24334123d30>"
      ]
     },
     "execution_count": 41,
     "metadata": {},
     "output_type": "execute_result"
    }
   ],
   "source": [
    "Person()"
   ]
  },
  {
   "cell_type": "markdown",
   "id": "e7453542-9d97-40b9-b65b-b9f6411e3b85",
   "metadata": {},
   "source": [
    "- Yes, by only writing `Person()`, an object was created.\n",
    "- So, when we write `p = Person()`, we refer to `p` as the object, but technically, this is not entirely accurate.\n",
    "- By calling `Person()`, an object is created in memory, and `p` is used to store its reference.\n",
    "- Therefore, `p` is just a variable name that holds the memory address of the object.\n",
    "- `p` is not the object itself; it contains the address of the object.\n",
    "- This is known as a reference variable.\n"
   ]
  },
  {
   "cell_type": "code",
   "execution_count": 42,
   "id": "ce399091-a9b9-49b5-80d4-18171002272f",
   "metadata": {},
   "outputs": [],
   "source": [
    "q = p"
   ]
  },
  {
   "cell_type": "markdown",
   "id": "95204114-92cc-4b1b-895e-d69b304ad592",
   "metadata": {},
   "source": [
    "- when we write this q= p so basicallyboth variabke are pointing towards same address"
   ]
  },
  {
   "cell_type": "code",
   "execution_count": 43,
   "id": "1beee946-5bb9-4569-b0e5-3802a249e951",
   "metadata": {},
   "outputs": [
    {
     "name": "stdout",
     "output_type": "stream",
     "text": [
      "2487671945008\n",
      "2487671945008\n"
     ]
    }
   ],
   "source": [
    "# Multiple ref\n",
    "print(id(p))\n",
    "print(id(q))"
   ]
  },
  {
   "cell_type": "markdown",
   "id": "dd5eefbe-eaa1-4cd4-9877-b1846fd98ae0",
   "metadata": {},
   "source": [
    "- The crux is that we can create a single object and assign it to multiple reference variables.\n",
    "- The key point is that `p` is not the object itself; it is a reference variable that holds the address of the object.\n"
   ]
  },
  {
   "cell_type": "markdown",
   "id": "316ef807-952d-43c6-8222-7bcd29f08761",
   "metadata": {},
   "source": [
    "### Pass by Reference\n",
    "\n",
    "- We have a class `Person` with a constructor that takes `name` and `gender` as inputs, creating an object with these two attributes.\n",
    "- Next, we define a function outside of the class (not a method, since it's outside the class) that takes a `Person` object as an argument.\n",
    "- The function `greet` will use this `Person` object to print information about the person.\n",
    "- We then create a `Person` object with the name 'Saurabh' and gender 'male', and store it in the variable `p`.\n",
    "- We call the `greet` function and pass `p` as an argument, where `p` is an object of the `Person` class.\n"
   ]
  },
  {
   "cell_type": "code",
   "execution_count": 50,
   "id": "edc8d1fb-ebe9-4410-bdb2-d62525d13fc7",
   "metadata": {},
   "outputs": [
    {
     "name": "stdout",
     "output_type": "stream",
     "text": [
      "Hi my name is saurabh and I am a male\n"
     ]
    }
   ],
   "source": [
    "class Person:\n",
    "\n",
    "    def __init__(self,name,gender):\n",
    "        self.name = name\n",
    "        self.gender = gender\n",
    "\n",
    "# outside the class -> function\n",
    "def greet(person):\n",
    "    print('Hi my name is',person.name,'and I am a',person.gender)\n",
    "    \n",
    "\n",
    "p = Person('saurabh','male')\n",
    "greet(p)"
   ]
  },
  {
   "cell_type": "markdown",
   "id": "53784f88-3f02-4ef1-82fa-de5cce610fbe",
   "metadata": {},
   "source": [
    "- What we did here was pass a class object as input to a function.\n",
    "- Typically, we pass lists, integers, or floats as inputs to functions.\n",
    "- In Python, we can also pass class objects as arguments to functions.\n",
    "- In fact, we can do the reverse as well: a function can return a class object. We will see an example of this.\n"
   ]
  },
  {
   "cell_type": "code",
   "execution_count": 53,
   "id": "ff9db457-f458-47ad-b6a8-8b25a6bb164a",
   "metadata": {},
   "outputs": [
    {
     "name": "stdout",
     "output_type": "stream",
     "text": [
      "Hi my name is saurabh and I am a male\n",
      "chavan\n",
      "male\n"
     ]
    }
   ],
   "source": [
    "class Person:\n",
    "\n",
    "    def __init__(self,name,gender):\n",
    "        self.name = name\n",
    "        self.gender = gender\n",
    "\n",
    "# outside the class -> function\n",
    "def greet(person):\n",
    "    print('Hi my name is',person.name,'and I am a',person.gender)\n",
    "    p1 = Person('chavan','male')\n",
    "    return p1\n",
    "\n",
    "p = Person('saurabh','male')\n",
    "x = greet(p)\n",
    "print(x.name)\n",
    "print(x.gender)"
   ]
  },
  {
   "cell_type": "markdown",
   "id": "d3588e3d-0ef3-49af-8270-ae8d12b323c0",
   "metadata": {},
   "source": [
    "- This is an interesting example of code:\n",
    "  - First, we are providing a function with a class object as input.\n",
    "  - Second, the function is returning a new object.\n",
    "- The overall conclusion is that we can create an object and pass it to a function as input, and the function can also return an object.\n"
   ]
  },
  {
   "cell_type": "code",
   "execution_count": 54,
   "id": "251ebc4a-544a-4858-9072-38f95afd66d5",
   "metadata": {},
   "outputs": [
    {
     "name": "stdout",
     "output_type": "stream",
     "text": [
      "2487667520176\n",
      "2487667520176\n",
      "Hi my name is saurabh and I am a male\n"
     ]
    }
   ],
   "source": [
    "class Person:\n",
    "\n",
    "    def __init__(self,name,gender):\n",
    "        self.name = name\n",
    "        self.gender = gender\n",
    "\n",
    "# outside the class -> function\n",
    "def greet(person):\n",
    "    print(id(person))\n",
    "    print('Hi my name is',person.name,'and I am a',person.gender)\n",
    "    \n",
    "\n",
    "p = Person('saurabh','male')\n",
    "print(id(p))\n",
    "greet(p)"
   ]
  },
  {
   "cell_type": "markdown",
   "id": "24f3f8ae-cb46-4a2a-a965-b74693a538f6",
   "metadata": {},
   "source": [
    "- If we check the memory location of `p` outside the function and compare it to the `id` of the `person` object inside the function, they are the same.\n",
    "- This means that we didn't send the object itself; we sent the address of the object, or its reference.\n",
    "- This is why the topic is called \"pass by reference.\"\n",
    "- When passing an object to a function as input, we are technically sending the object's address (reference) rather than the object itself.\n"
   ]
  },
  {
   "cell_type": "markdown",
   "id": "ff8b1afc-6ec0-4dd8-990e-705ecbe50263",
   "metadata": {},
   "source": [
    "### Object  mutability\n",
    "- user defined objects in  python are mutable "
   ]
  },
  {
   "cell_type": "code",
   "execution_count": 56,
   "id": "bc4b2c43-7dd4-4f52-91ca-76bc4cbcc286",
   "metadata": {},
   "outputs": [
    {
     "name": "stdout",
     "output_type": "stream",
     "text": [
      "2487663338800\n",
      "2487663338800\n"
     ]
    }
   ],
   "source": [
    "class Person:\n",
    "    \n",
    "    def __init__(self,name,gender):\n",
    "        self.name = name\n",
    "        self.gender = gender\n",
    "\n",
    "# outside the class -> function\n",
    "def greet(person):\n",
    "    person.name = 'chavan'\n",
    "    return person\n",
    "\n",
    "p = Person('saurabh','male')\n",
    "print(id(p))\n",
    "p1 = greet(p)\n",
    "print(id(p1))"
   ]
  },
  {
   "cell_type": "markdown",
   "id": "0569c327-6606-4fe7-b66e-262f0bd8f897",
   "metadata": {},
   "source": [
    "- The memory addresses are the same.\n",
    "- The reason is that initially, the object’s name was 'Saurabh', but when passed into the function, it changed the name to 'Chavan'. Despite this change, the memory address remains the same, indicating that it is still referencing the same object.\n",
    "- Therefore, user-defined class objects in Python are mutable by default, similar to lists, sets, and dictionaries.\n"
   ]
  },
  {
   "cell_type": "code",
   "execution_count": null,
   "id": "aeb98ceb-b2cf-4e63-b040-8287d7ed8bb6",
   "metadata": {},
   "outputs": [],
   "source": []
  }
 ],
 "metadata": {
  "kernelspec": {
   "display_name": "Python 3 (ipykernel)",
   "language": "python",
   "name": "python3"
  },
  "language_info": {
   "codemirror_mode": {
    "name": "ipython",
    "version": 3
   },
   "file_extension": ".py",
   "mimetype": "text/x-python",
   "name": "python",
   "nbconvert_exporter": "python",
   "pygments_lexer": "ipython3",
   "version": "3.10.9"
  }
 },
 "nbformat": 4,
 "nbformat_minor": 5
}
