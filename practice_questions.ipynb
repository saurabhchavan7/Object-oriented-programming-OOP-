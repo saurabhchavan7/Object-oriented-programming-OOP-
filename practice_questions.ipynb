{
 "cells": [
  {
   "cell_type": "markdown",
   "id": "9bb7afd7-f676-4975-a9a9-12d4f2ddae8b",
   "metadata": {},
   "source": [
    "### Write OOP classes to handle the following scenarios:\n",
    "\n",
    "- A user can create and view 2D coordinates\n",
    "- A user can find out the distance between 2 coordinates\n",
    "- A user can find find the distance of a coordinate from origin\n",
    "- A user can check if a point lies on a given line\n",
    "- A user can find the distance between a given 2D point and a given line\n",
    "\n"
   ]
  },
  {
   "cell_type": "markdown",
   "id": "e5bf5edd-3810-4786-8c4a-0c3919e8c021",
   "metadata": {},
   "source": [
    "so above we have 5 scenarios and we have to write classes on them\n",
    "- so will write 2 clases one for the point other for the line and will see how they interact with each other\n",
    "- when will see proper softwares there are 100s of classes  interacting togetheir\n",
    "- lets start and first weill make the point class"
   ]
  },
  {
   "cell_type": "code",
   "execution_count": 31,
   "id": "4d74a923-10c4-44e7-af8a-d73a6b204f46",
   "metadata": {},
   "outputs": [],
   "source": [
    "class Point:\n",
    "    \n",
    "    def __init__(self,x,y):\n",
    "        self.x_cod = x\n",
    "        self.y_cod = y\n",
    "        \n",
    "    def __str__(self):\n",
    "        return '<{},{}>'.format(self.x_cod, self.y_cod)\n",
    "    \n",
    "    def euclidean_dist(self, other):\n",
    "        return ((self.x_cod - other.x_cod)**2 + (self.y_cod - other.y_cod)**2)**0.5\n",
    "    \n",
    "    def distance_from_origin(self):\n",
    "        return self.euclidean_dist(Point(0,0))\n",
    "\n",
    "    \n",
    "class Line:\n",
    "    \n",
    "    def __init__(self,A,B,C):\n",
    "        self.A = A\n",
    "        self.B = B\n",
    "        self.C = C\n",
    "        \n",
    "    \n",
    "    def __str__(self):\n",
    "        return '{}x + {}y + {} = 0'.format(self.A, self.B, self.C)\n",
    "    \n",
    "    \n",
    "    def point_on_line(line, point):\n",
    "        if line.A*point.x_cod + line.B*point.y_cod + line.C == 0:\n",
    "            return 'lies on the line'\n",
    "        \n",
    "        else:\n",
    "            return 'does not lie on the line'\n",
    "        \n",
    "    def shortest_distance(line,point):\n",
    "        return abs(line.A*point.x_cod + line.B*point.y_cod + line.C)/(line.A**2 + line.B**2)**0.5\n",
    "    "
   ]
  },
  {
   "cell_type": "code",
   "execution_count": 32,
   "id": "0398f7f9-eaec-454f-a98d-89ab2da77ac5",
   "metadata": {},
   "outputs": [
    {
     "name": "stdout",
     "output_type": "stream",
     "text": [
      "6.324555320336759\n"
     ]
    }
   ],
   "source": [
    "p1 = Point(2,7)\n",
    "p2 = Point(8,5)\n",
    "\n",
    "print(p1.euclidean_dist(p2))\n"
   ]
  },
  {
   "cell_type": "code",
   "execution_count": 38,
   "id": "9c971d29-7dd3-4def-9d6e-8873819d2044",
   "metadata": {},
   "outputs": [
    {
     "name": "stdout",
     "output_type": "stream",
     "text": [
      "2x + 3y + 4 = 0\n",
      "<7,10>\n",
      "does not lie on the line\n"
     ]
    },
    {
     "data": {
      "text/plain": [
       "13.3128047094055"
      ]
     },
     "execution_count": 38,
     "metadata": {},
     "output_type": "execute_result"
    }
   ],
   "source": [
    "l1 = Line(2,3,4)\n",
    "p1 = Point(7,10)\n",
    "print(l1)\n",
    "print(p1)\n",
    "\n",
    "print(l1.point_on_line(p1))\n",
    "\n",
    "l1.shortest_distance(p1)"
   ]
  },
  {
   "cell_type": "code",
   "execution_count": null,
   "id": "61a6a8d5-c18d-4c19-8364-8bcde52c9866",
   "metadata": {},
   "outputs": [],
   "source": []
  }
 ],
 "metadata": {
  "kernelspec": {
   "display_name": "Python 3 (ipykernel)",
   "language": "python",
   "name": "python3"
  },
  "language_info": {
   "codemirror_mode": {
    "name": "ipython",
    "version": 3
   },
   "file_extension": ".py",
   "mimetype": "text/x-python",
   "name": "python",
   "nbconvert_exporter": "python",
   "pygments_lexer": "ipython3",
   "version": "3.10.9"
  }
 },
 "nbformat": 4,
 "nbformat_minor": 5
}
