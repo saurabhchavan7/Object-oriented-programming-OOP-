{
 "cells": [
  {
   "cell_type": "markdown",
   "id": "80cb32ef-c8f5-4761-bff4-112a4282d9fd",
   "metadata": {},
   "source": [
    "### Abstraction\n",
    "- It means hidden.\n",
    "- Example: Consider a laptop. Inside a laptop, there are many technicalities and circuits, but we do not care about them; we should just know how to run a laptop at a surface level.\n",
    "- The laptop is abstracted; the implementation details are hidden.\n",
    "- Another example from nature: Electromagnetic waves are not visible, but using them, we can perform many tasks like talking on the phone or using the internet.\n",
    "- We will understand how abstraction is implemented in software through an example.\n",
    "\n",
    "#### Example: Bank Application\n",
    "- Consider a scenario where we need to build a bank application.\n",
    "- At the top of the hierarchy, we have the main application connected to the database.\n",
    "- Below this, we have two more applications/classes: one is a web app and the other is a mobile app.\n",
    "- If the web app or mobile app wants to interact with data, it will take help from the bank app.\n",
    "- This demonstrates inheritance.\n",
    "\n",
    "- Now, suppose a senior developer is creating the bank app class. They want to enforce a constraint on the junior programmers developing the web app and mobile app.\n",
    "- The constraint is that if they want to inherit the bank app class, they must implement a security function, ensuring that both the mobile app and web app are secure.\n",
    "- Thus, the concept of abstraction allows a senior developer to impose constraints on junior programmers.\n",
    "\n",
    "- We will understand this through code.\n"
   ]
  },
  {
   "cell_type": "code",
   "execution_count": 2,
   "id": "f4fb6573-4690-47f5-b9ee-33d8a381d32a",
   "metadata": {},
   "outputs": [],
   "source": [
    "from abc import ABC,abstractmethod\n",
    "class BankApp(ABC):\n",
    "\n",
    "    def database(self):\n",
    "        print('connected to database')\n",
    "\n",
    "    @abstractmethod\n",
    "    def security(self):\n",
    "        pass\n",
    "\n",
    "    @abstractmethod\n",
    "    def display(self):\n",
    "        pass\n"
   ]
  },
  {
   "cell_type": "markdown",
   "id": "e427a376-615e-49cd-a3b1-fef0b8f1991c",
   "metadata": {},
   "source": [
    "- The `BankApp` class is an abstract class, which means it contains at least one abstract method.\n",
    "- An abstract method is a method without any implementation; it has no code written inside it.\n",
    "- Abstract methods are methods with no code inside, while concrete methods have code.\n",
    "- In the `BankApp` class, we have created two methods:\n",
    "  - One method is about the database, and the other is the security method, which will be abstract.\n",
    "- To define an abstract method, we use the `@abstractmethod` decorator.\n",
    "- To declare a class as abstract, it must inherit from the `ABC` class (Abstract Base Class).\n",
    "- Next, we will create another class, `MobileApp`, which will inherit from the `BankApp` class.\n"
   ]
  },
  {
   "cell_type": "code",
   "execution_count": 3,
   "id": "2f276bfe-adb4-4758-ba65-65f62ebdb08e",
   "metadata": {},
   "outputs": [],
   "source": [
    "class MobileApp(BankApp):\n",
    "\n",
    "    def mobile_login(self):\n",
    "        print('login into mobile')\n",
    "\n",
    "    def security(self):\n",
    "        print('mobile security')\n",
    "\n",
    "    def display(self):\n",
    "        print('display')"
   ]
  },
  {
   "cell_type": "markdown",
   "id": "913e1537-1cd8-4af6-9269-334fd95a0ddd",
   "metadata": {},
   "source": [
    "- The `MobileApp` class inherits from the `BankApp` class.\n",
    "- Inside `MobileApp`, we have a method called `mobile_login`, which handles logging into the mobile application.\n",
    "- The reason for inheriting `BankApp` is that the `MobileApp` needs access to the `database` method, as it also requires a connection to the database for transactions.\n",
    "- The senior programmer has specified that you can use the `database` method, but you must also implement a `security` method in your class.\n",
    "- If you do not write the `security` method, as shown below:\n",
    "  ```python\n",
    "  def security(self):\n",
    "      print('mobile security')\n"
   ]
  },
  {
   "cell_type": "code",
   "execution_count": 4,
   "id": "f400e28a-afb9-42c3-8d6b-0b6780664442",
   "metadata": {},
   "outputs": [],
   "source": [
    "mob = MobileApp()"
   ]
  },
  {
   "cell_type": "code",
   "execution_count": 5,
   "id": "3d9623bc-ef25-41b0-a4b6-7b3dd8c4659e",
   "metadata": {},
   "outputs": [
    {
     "name": "stdout",
     "output_type": "stream",
     "text": [
      "mobile security\n"
     ]
    }
   ],
   "source": [
    "mob.security()"
   ]
  },
  {
   "cell_type": "markdown",
   "id": "be36e637-04e3-4e1a-8e1a-14b5a52d78d3",
   "metadata": {},
   "source": [
    "- By using abstraction, our higher-level class can enforce constraints on lower-level classes. This ensures that specific methods are implemented in the derived classes.\n",
    "- Essentially, abstraction allows us to apply constraints and ensure certain functionalities are provided by subclasses.\n",
    "- Note that we cannot create an object of an abstract class. Attempting to do so will result in an error. \n"
   ]
  },
  {
   "cell_type": "code",
   "execution_count": 7,
   "id": "587a41bb-d4e7-4113-afaa-661a47c9a708",
   "metadata": {},
   "outputs": [
    {
     "ename": "TypeError",
     "evalue": "Can't instantiate abstract class BankApp with abstract methods display, security",
     "output_type": "error",
     "traceback": [
      "\u001b[1;31m---------------------------------------------------------------------------\u001b[0m",
      "\u001b[1;31mTypeError\u001b[0m                                 Traceback (most recent call last)",
      "Cell \u001b[1;32mIn[7], line 1\u001b[0m\n\u001b[1;32m----> 1\u001b[0m obj \u001b[38;5;241m=\u001b[39m \u001b[43mBankApp\u001b[49m\u001b[43m(\u001b[49m\u001b[43m)\u001b[49m\n",
      "\u001b[1;31mTypeError\u001b[0m: Can't instantiate abstract class BankApp with abstract methods display, security"
     ]
    }
   ],
   "source": [
    "obj = BankApp()"
   ]
  },
  {
   "cell_type": "code",
   "execution_count": null,
   "id": "d5af3298-f2ab-45f5-ad47-3d9f911a7a26",
   "metadata": {},
   "outputs": [],
   "source": []
  }
 ],
 "metadata": {
  "kernelspec": {
   "display_name": "Python 3 (ipykernel)",
   "language": "python",
   "name": "python3"
  },
  "language_info": {
   "codemirror_mode": {
    "name": "ipython",
    "version": 3
   },
   "file_extension": ".py",
   "mimetype": "text/x-python",
   "name": "python",
   "nbconvert_exporter": "python",
   "pygments_lexer": "ipython3",
   "version": "3.10.9"
  }
 },
 "nbformat": 4,
 "nbformat_minor": 5
}
