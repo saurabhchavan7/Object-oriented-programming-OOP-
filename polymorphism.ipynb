{
 "cells": [
  {
   "cell_type": "markdown",
   "id": "03cbb6f9-3d5c-45fb-beff-56d6f8b0a3ba",
   "metadata": {},
   "source": [
    "### Polymorphism\n",
    "\n",
    "- An important principle in OOP (Object-Oriented Programming)\n",
    "- Polymorphism means having multiple forms or faces\n",
    "- There are three main concepts in polymorphism:\n",
    "\n",
    "1. **Method Overriding**\n",
    "    - Occurs when a child class has a method with the same name as a method in its parent class\n",
    "    - The child class's method is executed, overriding the parent class's method\n",
    "\n",
    "2. **Method Overloading**\n",
    "    - Refers to having multiple methods with the same name but different parameters within a single class\n",
    "    - Python does not support traditional method overloading as seen in other languages like Java\n",
    "    - Instead, Python uses default arguments to achieve similar functionality\n",
    "\n",
    "3. **Operator Overloading**\n",
    "    - The same operator can have different behaviors based on the types of operands\n",
    "    - Example with the `+` operator:\n",
    "        - When used with strings, e.g., `\"hello\" + \"world\"`, it performs concatenation: `\"helloworld\"`\n",
    "        - When used with integers, e.g., `4 + 5`, it performs addition: `9`\n",
    "        - When used with lists, e.g., `[1, 2, 3] + [4, 5]`, it performs merging: `[1, 2, 3, 4, 5]`\n",
    "    - In the context of user-defined classes, operator overloading allows custom behavior for operators\n",
    "    - For example, in a `Fraction` class, the `+` operator might be overloaded to handle fraction addition using the `__add__` magic method\n"
   ]
  },
  {
   "cell_type": "code",
   "execution_count": 5,
   "id": "35f47c32-e1a4-48a9-ab06-f77328742334",
   "metadata": {},
   "outputs": [
    {
     "ename": "TypeError",
     "evalue": "Shape.area() missing 1 required positional argument: 'b'",
     "output_type": "error",
     "traceback": [
      "\u001b[1;31m---------------------------------------------------------------------------\u001b[0m",
      "\u001b[1;31mTypeError\u001b[0m                                 Traceback (most recent call last)",
      "Cell \u001b[1;32mIn[5], line 13\u001b[0m\n\u001b[0;32m      9\u001b[0m         \u001b[38;5;28;01mreturn\u001b[39;00m l\u001b[38;5;241m*\u001b[39mb\n\u001b[0;32m     11\u001b[0m s \u001b[38;5;241m=\u001b[39m Shape()\n\u001b[1;32m---> 13\u001b[0m \u001b[43ms\u001b[49m\u001b[38;5;241;43m.\u001b[39;49m\u001b[43marea\u001b[49m\u001b[43m(\u001b[49m\u001b[38;5;241;43m2\u001b[39;49m\u001b[43m)\u001b[49m\n\u001b[0;32m     14\u001b[0m s\u001b[38;5;241m.\u001b[39marea(\u001b[38;5;241m3\u001b[39m,\u001b[38;5;241m4\u001b[39m)\n",
      "\u001b[1;31mTypeError\u001b[0m: Shape.area() missing 1 required positional argument: 'b'"
     ]
    }
   ],
   "source": [
    "# method overloading\n",
    "\n",
    "class Shape:\n",
    "    \n",
    "    def area(self, radius):\n",
    "        return 3.14*radius*radius\n",
    "    \n",
    "    def area(self,l,b):\n",
    "        return l*b\n",
    "    \n",
    "s = Shape()\n",
    "\n",
    "s.area(2)\n",
    "s.area(3,4)"
   ]
  },
  {
   "cell_type": "markdown",
   "id": "2d6a302b-2ffd-44b7-9bf0-98c1aa6f6598",
   "metadata": {},
   "source": [
    "### Method Overloading in Python\n",
    "\n",
    "- The purpose of method overloading is to keep your code cleaner and more organized\n",
    "    - For example, instead of writing separate methods like `area_circle` and `area_rectangle`, you can have a single method that handles both cases\n",
    "- In languages like Java, method overloading allows multiple methods with the same name but different parameters\n",
    "- However, Python does not support traditional method overloading in the same way\n",
    "    - Python does not differentiate between methods based on their parameters\n",
    "- Instead, Python provides a technique to achieve similar functionality using default arguments\n",
    "    - By defining default values for parameters, you can create a single method that handles different cases based on the number of arguments provided\n",
    "\n",
    "#### Example"
   ]
  },
  {
   "cell_type": "code",
   "execution_count": 6,
   "id": "92e4679a-36d5-413e-a977-69acc303bca8",
   "metadata": {},
   "outputs": [
    {
     "name": "stdout",
     "output_type": "stream",
     "text": [
      "12.56\n",
      "12\n"
     ]
    }
   ],
   "source": [
    "class Shape:\n",
    "\n",
    "    def area(self,a,b=0):\n",
    "        if b == 0:\n",
    "            return 3.14*a*a\n",
    "        else:\n",
    "            return a*b\n",
    "\n",
    "s = Shape()\n",
    "\n",
    "print(s.area(2))\n",
    "print(s.area(3,4))"
   ]
  },
  {
   "cell_type": "code",
   "execution_count": null,
   "id": "d1513520-d6ac-4303-885f-d5143b10931e",
   "metadata": {},
   "outputs": [],
   "source": [
    " ###"
   ]
  }
 ],
 "metadata": {
  "kernelspec": {
   "display_name": "Python 3 (ipykernel)",
   "language": "python",
   "name": "python3"
  },
  "language_info": {
   "codemirror_mode": {
    "name": "ipython",
    "version": 3
   },
   "file_extension": ".py",
   "mimetype": "text/x-python",
   "name": "python",
   "nbconvert_exporter": "python",
   "pygments_lexer": "ipython3",
   "version": "3.10.9"
  }
 },
 "nbformat": 4,
 "nbformat_minor": 5
}
